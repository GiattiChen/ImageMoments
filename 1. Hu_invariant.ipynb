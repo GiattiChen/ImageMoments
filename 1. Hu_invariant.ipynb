{
 "cells": [
  {
   "cell_type": "markdown",
   "metadata": {},
   "source": [
    "# Hu_moments"
   ]
  },
  {
   "cell_type": "code",
   "execution_count": 1,
   "metadata": {},
   "outputs": [],
   "source": [
    "import sys;\n",
    "sys.path.append(\"/Users/Giatti/Desktop/AI篆刻\") \n"
   ]
  },
  {
   "cell_type": "code",
   "execution_count": 2,
   "metadata": {},
   "outputs": [
    {
     "name": "stdout",
     "output_type": "stream",
     "text": [
      "/Users/Giatti/Desktop/AI篆刻/ImageMoments\n"
     ]
    }
   ],
   "source": [
    "import os\n",
    "print(os.path.abspath('.')) # 得到当前文件所在目录的绝对路径\n",
    "\n",
    "import cv2\n",
    "from datetime import datetime\n",
    "import numpy as np\n",
    "import matplotlib.pyplot as plt\n"
   ]
  },
  {
   "cell_type": "code",
   "execution_count": 43,
   "metadata": {},
   "outputs": [
    {
     "name": "stdout",
     "output_type": "stream",
     "text": [
      "[ 64 255 255 ...  64 255 255]\n",
      "[[0 0 0 ... 0 0 0]\n",
      " [0 0 0 ... 0 0 0]\n",
      " [0 0 0 ... 0 0 0]\n",
      " ...\n",
      " [0 0 0 ... 0 0 0]\n",
      " [0 0 0 ... 0 0 0]\n",
      " [0 0 0 ... 0 0 0]]\n"
     ]
    },
    {
     "data": {
      "image/png": "[encoded data removed]",
      "text/plain": [
       "<Figure size 432x288 with 1 Axes>"
      ]
     },
     "metadata": {},
     "output_type": "display_data"
    }
   ],
   "source": [
    "fp = 'Zhang.png'\n",
    "img = cv2.imread(fp)\n",
    "img_gray = cv2.cvtColor(img, cv2.COLOR_BGR2GRAY)\n",
    "\n",
    "img_gray_nonzero = img_gray.ravel()[np.flatnonzero(img_gray)]\n",
    "print(img_gray_nonzero)\n",
    "# print(np.flatnonzero(img_gray))\n",
    "\n",
    "ret, img_binary = cv2.threshold(img_gray, 127, 1, cv2.THRESH_BINARY)\n",
    "print(img_binary)\n",
    "# print(np.flatnonzero(binary))\n",
    "# print(img_gray.shape)\n",
    "plt.imshow(img_gray,'gray_r')\n",
    "plt.show()"
   ]
  },
  {
   "cell_type": "code",
   "execution_count": 44,
   "metadata": {},
   "outputs": [
    {
     "data": {
      "text/plain": [
       "9726"
      ]
     },
     "execution_count": 44,
     "metadata": {},
     "output_type": "execute_result"
    }
   ],
   "source": [
    "img_binary.sum()"
   ]
  },
  {
   "cell_type": "code",
   "execution_count": 75,
   "metadata": {},
   "outputs": [
    {
     "name": "stdout",
     "output_type": "stream",
     "text": [
      "[[ 4.73592495e-01]\n",
      " [ 9.45389104e-03]\n",
      " [ 6.01699307e-03]\n",
      " [ 8.16495671e-04]\n",
      " [ 1.13996261e-06]\n",
      " [ 7.19384330e-05]\n",
      " [-1.40559968e-06]]\n"
     ]
    }
   ],
   "source": [
    "  \n",
    "def test(img):\n",
    "    moments = cv2.moments(img)\n",
    "    humoments = cv2.HuMoments(moments)\n",
    "    # humoments = no.log(np.abs(humoments)) # 同样建议取对数\n",
    "    print(humoments)\n",
    " \n",
    "# if __name__ == '__main__':\n",
    "#     t1 = datetime.now()   \n",
    "#     fp = './ImageMoments/Zhang.png'\n",
    "#     img = cv2.imread(fp)\n",
    "#     img_gray = cv2.cvtColor(img, cv2.COLOR_BGR2GRAY)\n",
    "#     test(img_gray)\n",
    "#     print (datetime.now() - t1)\n",
    "\n",
    "test(img_binary)"
   ]
  },
  {
   "cell_type": "code",
   "execution_count": 77,
   "metadata": {},
   "outputs": [],
   "source": [
    "def humoments(img_gray):\n",
    "    '''\n",
    "    由于7个不变矩的变化范围很大,为了便于比较,可利用取对数的方法进行数据压缩;同时考虑到不变矩有可能出现负值的情况,因此,在取对数之前先取绝对值\n",
    "    经修正后的不变矩特征具有平移 、旋转和比例不变性\n",
    "    '''\n",
    "    # 标准矩定义为m_pq = sumsum(x^p * y^q * f(x, y))\n",
    "    row, col = img_gray.shape\n",
    "    #计算图像的0阶几何矩\n",
    "    m00 = img_gray.sum()\n",
    "    m10 = m01 = 0\n",
    "    #　计算图像的二阶、三阶几何矩\n",
    "    m11 = m20 = m02 = m12 = m21 = m30 = m03 = 0\n",
    "    for i in range(row):\n",
    "        m10 += (i * img_gray[i]).sum()\n",
    "        m20 += (i ** 2 * img_gray[i]).sum()\n",
    "        m30 += (i ** 3 * img_gray[i]).sum()\n",
    "        for j in range(col):\n",
    "            m11 += i * j * img_gray[i][j]\n",
    "            m12 += i * j ** 2 * img_gray[i][j]\n",
    "            m21 += i ** 2 * j * img_gray[i][j]\n",
    "    for j in range(col):\n",
    "        m01 += (j * img_gray[:, j]).sum()\n",
    "        m02 += (j ** 2 * img_gray[:, j]).sum()\n",
    "        m03 += (j ** 3 * img_gray[:, j]).sum()\n",
    "        \n",
    "    # 由标准矩我们可以得到图像的\"重心\"\n",
    "    x0 = m10 / m00\n",
    "    y0 = m01 / m00\n",
    "    # 计算图像的二阶中心矩、三阶中心矩\n",
    "    u00 = m00\n",
    "    u01 = u10 = 0\n",
    "    u11 = m11-x0*m01\n",
    "    u20 = m20 - x0*m10\n",
    "    u02 = m02 - y0*m01\n",
    "    u21 = m21 - 2*x0*m11 - y0*m20 + 2*(x0**2)*m01\n",
    "    u12 = m12 - 2*y0*m11 - x0*m02 + 2*(y0**2)*m10\n",
    "    u30 = m30 - 3*x0*m20 + 2*(x0**2)*m10\n",
    "    u03 = m03 - 3*y0*m02 + 2*(y0**2)*m01\n",
    "    \n",
    "    # 计算图像的归格化中心矩\n",
    "    # yij = uij/(u00**(1+(i+j)/2))\n",
    "    y20 = u20 / (u00**2)\n",
    "    y02 = u02 / (u00**2)\n",
    "    y11 = u11 / (u00**2)\n",
    "    y30 = u30 / (u00**2.5)\n",
    "    y03 = u03 / (u00**2.5)\n",
    "    y12 = u12 / (u00**2.5)\n",
    "    y21 = u21 / (u00**2.5)\n",
    "\n",
    "    # 计算图像的七个不变矩\n",
    "    h1 = y20 + y02\n",
    "    h2 = (y20 - y02) ** 2 + 4 * y11 ** 2\n",
    "    h3 = (y30 - 3 * y12) ** 2 + (3 * y21 - y03) ** 2\n",
    "    h4 = (y30 + y12) ** 2 + (y21 + y03) ** 2\n",
    "    h5 = (y30 - 3 * y12) * (y30 + y12) * ((y30 + y12) ** 2 - 3 * (y21 + y03) ** 2) + (3 * y21 - y03) * (y21 + y03) \\\n",
    "        * (3 * (y30 + y12) ** 2 - (y21 + y03) ** 2)\n",
    "    h6 = (y20 - y02) * ((y30 + y12) ** 2 - (y21 + y03) ** 2) + 4 * y11 * (y30 + y12) * (y21 + y03)\n",
    "    h7 = (3 * y21 - y03) * (y30 + y12) * ((y30 + y12) ** 2 - 3 * (y21 + y03) ** 2) + (3 * y12 - y30) * (y21 + y03) \\\n",
    "        * (3 * (y30 + y12) ** 2 - (y21 + y03) ** 2)\n",
    "    inv_m7 = [h1, h2, h3, h4, h5, h6, h7]\n",
    "\n",
    "    return inv_m7\n",
    " \n",
    "# if __name__ == '__main__':\n",
    "#     t1 = datetime.now()\n",
    "#     fp = '/home/mamq/images/3.jpg'\n",
    "#     img = cv2.imread(fp)\n",
    "#     img_gray = cv2.cvtColor(img, cv2.COLOR_BGR2GRAY)\n",
    "#     print humoments(img_gray)\n",
    "#     print datetime.now() - t1"
   ]
  },
  {
   "cell_type": "code",
   "execution_count": 78,
   "metadata": {},
   "outputs": [
    {
     "name": "stdout",
     "output_type": "stream",
     "text": [
      "[0.47359249486981264, 0.009453891044476201, 0.006016993068560849, 0.0008164956710095591, 1.1399626149962545e-06, 7.193843303907277e-05, 1.4055996816700706e-06]\n"
     ]
    }
   ],
   "source": [
    "print(humoments(img_binary))"
   ]
  },
  {
   "cell_type": "code",
   "execution_count": 68,
   "metadata": {},
   "outputs": [],
   "source": [
    "fp = 'Zhang.png'\n",
    "img_gray = cv2.imread(fp, cv2.IMREAD_GRAYSCALE)\n",
    "\n",
    "\n",
    "ret, img_binary = cv2.threshold(img_gray, 127, 1, cv2.THRESH_BINARY)\n",
    "row,col = img_binary.shape\n",
    "p = 20 \n",
    "q = 20\n",
    "m = m_pq(img_binary,p,q)\n",
    "\n"
   ]
  },
  {
   "cell_type": "code",
   "execution_count": 67,
   "metadata": {},
   "outputs": [],
   "source": [
    "def m_pq(f, p, q):\n",
    "    \"\"\"\n",
    "    Two-dimensional (p+q)th order moment of image f(x,y)\n",
    "    where p,q = 0, 1, 2, ...\n",
    "    \"\"\"\n",
    "    m = np.zeros((p,q))\n",
    "    # Loop in f(x,y)\n",
    "    for i in range(0,p):\n",
    "        for j in range(0,q):\n",
    "            for x in range(0, len(f)):\n",
    "                for y in range(0, len(f[0])):\n",
    "                    m[i][j] += ((x+1)**i)*((y+1)**j)*f[x][y]\n",
    "    return m\n"
   ]
  },
  {
   "cell_type": "code",
   "execution_count": 85,
   "metadata": {},
   "outputs": [],
   "source": [
    "def centroid(m):\n",
    "    \"\"\"\n",
    "    Computes the centroid of image f(x,y)\n",
    "    \"\"\"\n",
    "    return [m[1][0]/m[0][0], m[0][1]/m[0][0]]"
   ]
  },
  {
   "cell_type": "code",
   "execution_count": 86,
   "metadata": {},
   "outputs": [],
   "source": [
    "def u_pq(f, p, q):\n",
    "    \"\"\"\n",
    "    Centroid moment invariant to rotation.\n",
    "    This function is equivalent to the m_pq but translating the centre of image\n",
    "    f(x,y) to the centroid.\n",
    "    \"\"\"\n",
    "    u = 0\n",
    "    centre = centroid(f)\n",
    "    for x in range(0, len(f)):\n",
    "        for y in range(0, len(f[0])):\n",
    "            u += ((x-centre[0]+1)**p)*((y-centre[1]+1)**q)*f[x][y]\n",
    "    return u"
   ]
  },
  {
   "cell_type": "code",
   "execution_count": 87,
   "metadata": {},
   "outputs": [],
   "source": [
    "def hu(f):\n",
    "    \"\"\"\n",
    "    This function computes Hu's seven invariant moments.\n",
    "    \"\"\"\n",
    "    u_00 = u_pq(f, 0, 0)\n",
    "\n",
    "    # Scale invariance is obtained by normalization.\n",
    "    # The normalized central moment is given below\n",
    "    eta = lambda f, p, q: u_pq(f, p, q)/(u_00**((p+q+2)/2))\n",
    "\n",
    "    # normalized central moments used to compute Hu's seven moments invariat\n",
    "    eta_20 = eta(f, 2, 0)\n",
    "    eta_02 = eta(f, 0, 2)\n",
    "    eta_11 = eta(f, 1, 1)\n",
    "    eta_12 = eta(f, 1, 2)\n",
    "    eta_21 = eta(f, 2, 1)\n",
    "    eta_30 = eta(f, 3, 0)\n",
    "    eta_03 = eta(f, 0, 3)\n",
    "\n",
    "    # Hu's moments are computed below\n",
    "    phi_1 = eta_20 + eta_02\n",
    "    phi_2 = 4*eta_11 + (eta_20-eta_02)**2\n",
    "    phi_3 = (eta_30 - 3*eta_12)**2 + (3*eta_21 - eta_03)**2\n",
    "    phi_4 = (eta_30 + eta_12)**2 + (eta_21 + eta_03)**2\n",
    "    phi_5 = (eta_30 - 3*eta_12)*(eta_30 + eta_12)*((eta_30+eta_12)**2 - 3*(eta_21+eta_03)**2) + (3*eta_21 - eta_03)*(eta_21 + eta_03)*(3*(eta_30 + eta_12) - (eta_21 + eta_03)**2)\n",
    "    phi_6 = (eta_20 - eta_02)*((eta_30 + eta_12)**2 - (eta_21 + eta_03)**2) + 4*eta_11*(eta_30 + eta_12)*(eta_21 + eta_03)\n",
    "    phi_7 = (3*eta_21 - eta_03)*(eta_30 + eta_12)*((eta_30 + eta_12)**2 - 3*(eta_21 + eta_03)**2) - (eta_30 - 3*eta_12)*(eta_21 + eta_03)*(3*(eta_30 + eta_12)**2 - (eta_21 + eta_03)**2)\n",
    "\n",
    "    return [phi_1, phi_2, phi_3, phi_4, phi_5, phi_6, phi_7]"
   ]
  },
  {
   "cell_type": "code",
   "execution_count": 88,
   "metadata": {},
   "outputs": [
    {
     "name": "stderr",
     "output_type": "stream",
     "text": [
      "/anaconda3/lib/python3.6/site-packages/ipykernel_launcher.py:5: RuntimeWarning: invalid value encountered in ubyte_scalars\n",
      "  \"\"\"\n"
     ]
    },
    {
     "data": {
      "text/plain": [
       "[nan, nan, nan, nan, nan, nan, nan]"
      ]
     },
     "execution_count": 88,
     "metadata": {},
     "output_type": "execute_result"
    }
   ],
   "source": [
    "hu(img_binary)"
   ]
  },
  {
   "cell_type": "code",
   "execution_count": null,
   "metadata": {},
   "outputs": [],
   "source": [
    "\n"
   ]
  }
 ],
 "metadata": {
  "kernelspec": {
   "display_name": "Python 3",
   "language": "python",
   "name": "python3"
  },
  "language_info": {
   "codemirror_mode": {
    "name": "ipython",
    "version": 3
   },
   "file_extension": ".py",
   "mimetype": "text/x-python",
   "name": "python",
   "nbconvert_exporter": "python",
   "pygments_lexer": "ipython3",
   "version": "3.6.5"
  }
 },
 "nbformat": 4,
 "nbformat_minor": 4
}
