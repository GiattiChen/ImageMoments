{
 "cells": [
  {
   "cell_type": "markdown",
   "metadata": {},
   "source": [
    "# Hu_moments"
   ]
  },
  {
   "cell_type": "code",
   "execution_count": 20,
   "metadata": {},
   "outputs": [],
   "source": [
    "import sys;\n",
    "sys.path.append(\"/Users/Giatti/Desktop/AI篆刻\") \n"
   ]
  },
  {
   "cell_type": "code",
   "execution_count": 21,
   "metadata": {},
   "outputs": [
    {
     "name": "stdout",
     "output_type": "stream",
     "text": [
      "/Users/Giatti/Desktop/AI篆刻\n"
     ]
    }
   ],
   "source": [
    "import os\n",
    "print(os.path.abspath('.')) # 得到当前文件所在目录的绝对路径\n"
   ]
  },
  {
   "cell_type": "code",
   "execution_count": 22,
   "metadata": {},
   "outputs": [
    {
     "name": "stdout",
     "output_type": "stream",
     "text": [
      "(75, 75)\n",
      "[[0 0 0 ... 0 0 0]\n",
      " [0 1 1 ... 0 0 1]\n",
      " [0 0 0 ... 1 0 0]\n",
      " ...\n",
      " [0 0 0 ... 1 0 0]\n",
      " [0 0 0 ... 0 0 0]\n",
      " [0 0 0 ... 0 1 0]]\n"
     ]
    },
    {
     "data": {
      "image/png": "[encoded data removed]",
      "text/plain": [
       "<Figure size 432x288 with 1 Axes>"
      ]
     },
     "metadata": {
      "needs_background": "light"
     },
     "output_type": "display_data"
    }
   ],
   "source": [
    "fp = 'Zhang.png'\n",
    "img = cv2.imread(fp)\n",
    "img_gray = cv2.cvtColor(img, cv2.COLOR_BGR2GRAY)\n",
    "img_gray = img_gray[10:85,10:85]\n",
    "\n",
    "print(img_gray.shape)\n",
    "print(img_gray)\n",
    "plt.imshow(img_gray)\n",
    "plt.show()"
   ]
  },
  {
   "cell_type": "code",
   "execution_count": 23,
   "metadata": {},
   "outputs": [
    {
     "name": "stdout",
     "output_type": "stream",
     "text": [
      "[[ 1.88615464e-03]\n",
      " [ 1.46693843e-07]\n",
      " [ 3.88340372e-10]\n",
      " [ 5.29172259e-11]\n",
      " [ 4.69315915e-21]\n",
      " [ 1.84746096e-14]\n",
      " [-5.95976069e-21]]\n"
     ]
    }
   ],
   "source": [
    "#-*-coding:utf-8-*-\n",
    "import cv2\n",
    "from datetime import datetime\n",
    "import numpy as np\n",
    "import matplotlib.pyplot as plt\n",
    "    \n",
    "def test(img):\n",
    "    moments = cv2.moments(img)\n",
    "    humoments = cv2.HuMoments(moments)\n",
    "    # humoments = no.log(np.abs(humoments)) # 同样建议取对数\n",
    "    print(humoments)\n",
    " \n",
    "# if __name__ == '__main__':\n",
    "#     t1 = datetime.now()   \n",
    "#     fp = './ImageMoments/Zhang.png'\n",
    "#     img = cv2.imread(fp)\n",
    "#     img_gray = cv2.cvtColor(img, cv2.COLOR_BGR2GRAY)\n",
    "#     test(img_gray)\n",
    "#     print (datetime.now() - t1)\n",
    "\n",
    "test(img_gray)"
   ]
  },
  {
   "cell_type": "code",
   "execution_count": 24,
   "metadata": {},
   "outputs": [],
   "source": [
    "#-*-coding:utf-8-*-\n",
    "import cv2\n",
    "from datetime import datetime\n",
    "import numpy as np\n",
    "# np.set_printoptions(suppress=True)\n",
    " \n",
    "def humoments(img_gray):\n",
    "    '''\n",
    "    由于7个不变矩的变化范围很大,为了便于比较,可利用取对数的方法进行数据压缩;同时考虑到不变矩有可能出现负值的情况,因此,在取对数之前先取绝对值\n",
    "    经修正后的不变矩特征具有平移 、旋转和比例不变性\n",
    "    '''\n",
    "    # 标准矩定义为m_pq = sumsum(x^p * y^q * f(x, y))\n",
    "    row, col = img_gray.shape\n",
    "    #计算图像的0阶几何矩\n",
    "    m00 = img_gray.sum()\n",
    "    m10 = m01 = 0\n",
    "    #　计算图像的二阶、三阶几何矩\n",
    "    m11 = m20 = m02 = m12 = m21 = m30 = m03 = 0\n",
    "    for i in range(row):\n",
    "        m10 += (i * img_gray[i]).sum()\n",
    "        m20 += (i ** 2 * img_gray[i]).sum()\n",
    "        m30 += (i ** 3 * img_gray[i]).sum()\n",
    "        for j in range(col):\n",
    "            m11 += i * j * img_gray[i][j]\n",
    "            m12 += i * j ** 2 * img_gray[i][j]\n",
    "            m21 += i ** 2 * j * img_gray[i][j]\n",
    "    for j in range(col):\n",
    "        m01 += (j * img_gray[:, j]).sum()\n",
    "        m02 += (j ** 2 * img_gray[:, j]).sum()\n",
    "        m30 += (j ** 3 * img_gray[:, j]).sum()\n",
    "        \n",
    "    # 由标准矩我们可以得到图像的\"重心\"\n",
    "    u10 = m10 / m00\n",
    "    u01 = m01 / m00\n",
    "    \n",
    "    # 计算图像的二阶中心矩、三阶中心矩\n",
    "    y00 = m00\n",
    "    y10 = y01 = 0\n",
    "    y11 = m11 - u01 * m10\n",
    "    y20 = m20 - u10 * m10\n",
    "    y02 = m02 - u01 * m01\n",
    "    y30 = m30 - 3 * u10 * m20 + 2 * u10 ** 2 * m10\n",
    "    y12 = m12 - 2 * u01 * m11 - u10 * m02 + 2 * u01 ** 2 * m10\n",
    "    y21 = m21 - 2 * u10 * m11 - u01 * m20 + 2 * u10 ** 2 * m01\n",
    "    y03 = m03 - 3 * u01 * m02 + 2 * u01 ** 2 * m01\n",
    "    \n",
    "    # 计算图像的归格化中心矩\n",
    "    n20 = y20 / m00 ** 2\n",
    "    n02 = y02 / m00 ** 2\n",
    "    n11 = y11 / m00 ** 2\n",
    "    n30 = y30 / m00 ** 2.5\n",
    "    n03 = y03 / m00 ** 2.5\n",
    "    n12 = y12 / m00 ** 2.5\n",
    "    n21 = y21 / m00 ** 2.5\n",
    "    \n",
    "    # 计算图像的七个不变矩\n",
    "    h1 = n20 + n02\n",
    "    h2 = (n20 - n02) ** 2 + 4 * n11 ** 2\n",
    "    h3 = (n30 - 3 * n12) ** 2 + (3 * n21 - n03) ** 2\n",
    "    h4 = (n30 + n12) ** 2 + (n21 + n03) ** 2\n",
    "    h5 = (n30 - 3 * n12) * (n30 + n12) * ((n30 + n12) ** 2 - 3 * (n21 + n03) ** 2) + (3 * n21 - n03) * (n21 + n03) \\\n",
    "        * (3 * (n30 + n12) ** 2 - (n21 + n03) ** 2)\n",
    "    h6 = (n20 - n02) * ((n30 + n12) ** 2 - (n21 + n03) ** 2) + 4 * n11 * (n30 + n12) * (n21 + n03)\n",
    "    h7 = (3 * n21 - n03) * (n30 + n12) * ((n30 + n12) ** 2 - 3 * (n21 + n03) ** 2) + (3 * n12 - n30) * (n21 + n03) \\\n",
    "        * (3 * (n30 + n12) ** 2 - (n21 + n03) ** 2)\n",
    "    inv_m7 = [h1, h2, h3, h4, h5, h6, h7]\n",
    "    inv_m7 = np.log(np.abs(inv_m7))\n",
    "    return inv_m7\n",
    " \n",
    "# if __name__ == '__main__':\n",
    "#     t1 = datetime.now()\n",
    "#     fp = '/home/mamq/images/3.jpg'\n",
    "#     img = cv2.imread(fp)\n",
    "#     img_gray = cv2.cvtColor(img, cv2.COLOR_BGR2GRAY)\n",
    "#     print humoments(img_gray)\n",
    "#     print datetime.now() - t1"
   ]
  },
  {
   "cell_type": "code",
   "execution_count": 25,
   "metadata": {},
   "outputs": [
    {
     "name": "stdout",
     "output_type": "stream",
     "text": [
      "[ -6.79940297  -9.26511255 -13.37535319 -13.27805971 -27.06571351\n",
      " -18.45685442 -26.85831966]\n"
     ]
    }
   ],
   "source": [
    "print(humoments(img_gray))"
   ]
  },
  {
   "cell_type": "code",
   "execution_count": 26,
   "metadata": {},
   "outputs": [],
   "source": [
    "def m_pq(f, p, q):\n",
    "    \"\"\"\n",
    "    Two-dimensional (p+q)th order moment of image f(x,y)\n",
    "    where p,q = 0, 1, 2, ...\n",
    "    \"\"\"\n",
    "    m = 0\n",
    "    # Loop in f(x,y)\n",
    "    for x in range(0, len(f)):\n",
    "        for y in range(0, len(f[0])):\n",
    "            # +1 is used because if it wasn't, the first row and column would\n",
    "            # be ignored\n",
    "            m += ((x+1)**p)*((y+1)**q)*f[x][y]\n",
    "    return m\n",
    "\n",
    "\n",
    "def centroid(f):\n",
    "    \"\"\"\n",
    "    Computes the centroid of image f(x,y)\n",
    "    \"\"\"\n",
    "    m_00 = m_pq(f, 0, 0)\n",
    "    return [m_pq(f, 1, 0)/m_00, m_pq(f, 0 ,1)/m_00]\n",
    "\n",
    "\n",
    "def u_pq(f, p, q):\n",
    "    \"\"\"\n",
    "    Centroid moment invariant to rotation.\n",
    "    This function is equivalent to the m_pq but translating the centre of image\n",
    "    f(x,y) to the centroid.\n",
    "    \"\"\"\n",
    "    u = 0\n",
    "    centre = centroid(f)\n",
    "    for x in range(0, len(f)):\n",
    "        for y in range(0, len(f[0])):\n",
    "            u += ((x-centre[0]+1)**p)*((y-centre[1]+1)**q)*f[x][y]\n",
    "    return u\n",
    "\n",
    "\n",
    "def hu(f):\n",
    "    \"\"\"\n",
    "    This function computes Hu's seven invariant moments.\n",
    "    \"\"\"\n",
    "    u_00 = u_pq(f, 0, 0)\n",
    "\n",
    "    # Scale invariance is obtained by normalization.\n",
    "    # The normalized central moment is given below\n",
    "    eta = lambda f, p, q: u_pq(f, p, q)/(u_00**((p+q+2)/2))\n",
    "\n",
    "    # normalized central moments used to compute Hu's seven moments invariat\n",
    "    eta_20 = eta(f, 2, 0)\n",
    "    eta_02 = eta(f, 0, 2)\n",
    "    eta_11 = eta(f, 1, 1)\n",
    "    eta_12 = eta(f, 1, 2)\n",
    "    eta_21 = eta(f, 2, 1)\n",
    "    eta_30 = eta(f, 3, 0)\n",
    "    eta_03 = eta(f, 0, 3)\n",
    "\n",
    "    # Hu's moments are computed below\n",
    "    phi_1 = eta_20 + eta_02\n",
    "    phi_2 = 4*eta_11 + (eta_20-eta_02)**2\n",
    "    phi_3 = (eta_30 - 3*eta_12)**2 + (3*eta_21 - eta_03)**2\n",
    "    phi_4 = (eta_30 + eta_12)**2 + (eta_21 + eta_03)**2\n",
    "    phi_5 = (eta_30 - 3*eta_12)*(eta_30 + eta_12)*((eta_30+eta_12)**2 - 3*(eta_21+eta_03)**2) + (3*eta_21 - eta_03)*(eta_21 + eta_03)*(3*(eta_30 + eta_12) - (eta_21 + eta_03)**2)\n",
    "    phi_6 = (eta_20 - eta_02)*((eta_30 + eta_12)**2 - (eta_21 + eta_03)**2) + 4*eta_11*(eta_30 + eta_12)*(eta_21 + eta_03)\n",
    "    phi_7 = (3*eta_21 - eta_03)*(eta_30 + eta_12)*((eta_30 + eta_12)**2 - 3*(eta_21 + eta_03)**2) - (eta_30 - 3*eta_12)*(eta_21 + eta_03)*(3*(eta_30 + eta_12)**2 - (eta_21 + eta_03)**2)\n",
    "\n",
    "    return [phi_1, phi_2, phi_3, phi_4, phi_5, phi_6, phi_7]"
   ]
  },
  {
   "cell_type": "code",
   "execution_count": null,
   "metadata": {},
   "outputs": [],
   "source": []
  },
  {
   "cell_type": "code",
   "execution_count": null,
   "metadata": {},
   "outputs": [],
   "source": []
  },
  {
   "cell_type": "code",
   "execution_count": null,
   "metadata": {},
   "outputs": [],
   "source": []
  }
 ],
 "metadata": {
  "kernelspec": {
   "display_name": "Python 3",
   "language": "python",
   "name": "python3"
  },
  "language_info": {
   "codemirror_mode": {
    "name": "ipython",
    "version": 3
   },
   "file_extension": ".py",
   "mimetype": "text/x-python",
   "name": "python",
   "nbconvert_exporter": "python",
   "pygments_lexer": "ipython3",
   "version": "3.7.6"
  }
 },
 "nbformat": 4,
 "nbformat_minor": 4
}
