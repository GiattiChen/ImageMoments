{
 "cells": [
  {
   "cell_type": "code",
   "execution_count": 1,
   "metadata": {},
   "outputs": [],
   "source": [
    "import os, json\n",
    "from PIL import Image, ImageDraw, ImageFont,ImageFilter\n",
    "import PIL.Image\n",
    "import numpy as np\n",
    "import scipy as sp\n",
    "import matplotlib.pyplot as plt\n",
    "import cv2\n",
    "import scipy.special\n",
    "import scipy.misc\n",
    "import math\n",
    "from utils import *"
   ]
  },
  {
   "cell_type": "code",
   "execution_count": 2,
   "metadata": {},
   "outputs": [
    {
     "name": "stdout",
     "output_type": "stream",
     "text": [
      "The length of the sentence is 30\n"
     ]
    }
   ],
   "source": [
    "sentence = ''\n",
    "pt = 28 # global variable defination\n",
    "for line in open('./common-standard-chinese-characters-table-master/level-1.txt','r'):\n",
    "    rs = line.replace('\\n','')\n",
    "    sentence =sentence + rs\n",
    "for line in open('./common-standard-chinese-characters-table-master/level-2.txt','r'):\n",
    "    rs = line.replace('\\n','')\n",
    "    sentence =sentence + rs\n",
    "    \n",
    "sentence = sentence[20:50]\n",
    "print('The length of the sentence is {}'.format(len(sentence)))"
   ]
  },
  {
   "cell_type": "code",
   "execution_count": 3,
   "metadata": {},
   "outputs": [
    {
     "name": "stdout",
     "output_type": "stream",
     "text": [
      "The length of the sentence_train is 30\n",
      "For Songti.ttc, the offset is -5.683333333333334\n",
      "For STHeiti Medium.ttc, the offset is -1.2833333333333334\n",
      "The length of the sentence_valid is 6\n"
     ]
    }
   ],
   "source": [
    "npz_char(sentence, pt = pt, fontname1 = \"Songti.ttc\", fontname2 = \"STHeiti Medium.ttc\")"
   ]
  },
  {
   "cell_type": "code",
   "execution_count": 4,
   "metadata": {},
   "outputs": [],
   "source": [
    "data = np.load('/Users/Giatti/Desktop/AI篆刻/ImageMoments/char_moments.npz')"
   ]
  },
  {
   "cell_type": "code",
   "execution_count": 5,
   "metadata": {},
   "outputs": [
    {
     "data": {
      "image/png": "[encoded data removed]",
      "text/plain": [
       "<Figure size 432x288 with 1 Axes>"
      ]
     },
     "metadata": {
      "needs_background": "light"
     },
     "output_type": "display_data"
    },
    {
     "name": "stdout",
     "output_type": "stream",
     "text": [
      "data type: int8\n"
     ]
    }
   ],
   "source": [
    "train_A = np.abs(1-data['X_train']).reshape(data['X_train'].shape[0],pt,pt).astype(\"int8\")\n",
    "train_B = np.abs(1-data['y_train']).reshape(data['y_train'].shape[0],pt,pt).astype(\"int8\")\n",
    "valid_A = np.abs(1-data['X_valid']).reshape(data['X_valid'].shape[0],pt,pt).astype(\"int8\")\n",
    "valid_B = np.abs(1-data['y_valid']).reshape(data['y_valid'].shape[0],pt,pt).astype(\"int8\")\n",
    "\n",
    "valid_A[0] = train_A[15]\n",
    "valid_B[0] = train_B[15]\n",
    "\n",
    "plt.imshow(valid_A[0],'gray')\n",
    "plt.show()\n",
    "print(\"data type:\", train_A[0].dtype.name)"
   ]
  },
  {
   "cell_type": "code",
   "execution_count": null,
   "metadata": {},
   "outputs": [],
   "source": []
  },
  {
   "cell_type": "markdown",
   "metadata": {},
   "source": [
    "## Moments Processing"
   ]
  },
  {
   "cell_type": "code",
   "execution_count": 6,
   "metadata": {},
   "outputs": [
    {
     "name": "stdout",
     "output_type": "stream",
     "text": [
      "order = 31\n",
      "sigma = 0.15091570214573066\n",
      "train_size = 30\n",
      "valid_size = 6\n"
     ]
    }
   ],
   "source": [
    "k = 28 # k = pt\n",
    "n = 31 #order\n",
    "sigma = 0.9*n**(-0.52) # select scale parameter sigma\n",
    "print(\"order =\", n)\n",
    "print(\"sigma =\",sigma)\n",
    "M = np.zeros((n+1,n+1), dtype=\"double\")\n",
    "F = np.zeros((k,k), dtype=\"double\")\n",
    "\n",
    "# Q is the storage for Guassian_Hermite polynominal, shape = (n+1,k) <-- (p,i).  p [0,n] and i [0,k-1]\n",
    "Q = discrete_hermite_Q(n,k,sigma)\n",
    "\n",
    "train_size = train_A.shape[0] ; print(\"train_size =\", train_size)  # 30 \n",
    "valid_size = valid_A.shape[0] ; print(\"valid_size =\", valid_size)  # 6\n",
    "train_A_M = np.zeros((train_size,n+1,n+1), dtype='double')\n",
    "train_B_M = np.zeros((train_size,n+1,n+1), dtype='double')\n",
    "valid_A_M = np.zeros((valid_size,n+1,n+1), dtype='double')\n",
    "valid_B_M = np.zeros((valid_size,n+1,n+1), dtype='double')\n",
    "\n",
    "def char_to_moment(size, char_array, M_array):\n",
    "        # transfer the char_array to M_array\n",
    "    # ex. for the training set: [train_size,pt,pt] --> [train_size,order+1,order+1]\n",
    "    for i in range(size):\n",
    "        F = char_array[i].T\n",
    "        M = np.dot(np.dot(Q,F),Q.T)\n",
    "        M_array[i] = M\n",
    "    return\n",
    "\n",
    "char_to_moment(train_size,train_A,train_A_M)\n",
    "char_to_moment(train_size,train_B,train_B_M)\n",
    "char_to_moment(valid_size,valid_A,valid_A_M)\n",
    "char_to_moment(valid_size,valid_B,valid_B_M)\n",
    "\n",
    "# for i in range(train_size):\n",
    "#     F = train_A[i].T\n",
    "#     M = np.dot(np.dot(Q,F),Q.T)\n",
    "#     train_A_M[i] = M\n"
   ]
  },
  {
   "cell_type": "markdown",
   "metadata": {},
   "source": [
    "#### Send to Model"
   ]
  },
  {
   "cell_type": "code",
   "execution_count": 7,
   "metadata": {},
   "outputs": [
    {
     "name": "stdout",
     "output_type": "stream",
     "text": [
      "float64\n",
      "(4, 30, 256)\n"
     ]
    }
   ],
   "source": [
    "# bn -- before normalization\n",
    "m_size = int(((n+1)/2)**2)\n",
    "train_A_4m_bn = np.zeros((4,train_A_M.shape[0],m_size))\n",
    "train_B_4m_bn = np.zeros((4,train_B_M.shape[0],m_size))\n",
    "valid_A_4m_bn = np.zeros((4,valid_A_M.shape[0],m_size))\n",
    "valid_B_4m_bn = np.zeros((4,valid_B_M.shape[0],m_size))\n",
    "train_A_4m = np.zeros((4,train_A_M.shape[0],m_size))\n",
    "train_B_4m = np.zeros((4,train_B_M.shape[0],m_size))\n",
    "valid_A_4m = np.zeros((4,valid_A_M.shape[0],m_size))\n",
    "valid_B_4m = np.zeros((4,valid_B_M.shape[0],m_size))\n",
    "print(train_A_4m_bn.dtype.name)\n",
    "print(train_A_4m_bn.shape) #((31+1)/2)**2 = 256\n",
    "# Normalization\n",
    "train_A_4m_bn[0] = train_A_M[:,::2,::2].reshape((train_A_M.shape[0],-1))\n",
    "train_B_4m_bn[0] = train_B_M[:,::2,::2].reshape((train_B_M.shape[0],-1))\n",
    "valid_A_4m_bn[0] = valid_A_M[:,::2,::2].reshape((valid_A_M.shape[0],-1))\n",
    "valid_B_4m_bn[0] = valid_B_M[:,::2,::2].reshape((valid_B_M.shape[0],-1))\n",
    "\n",
    "train_A_4m_bn[1] = train_A_M[:,1::2,1::2].reshape((train_A_M.shape[0],-1))\n",
    "train_B_4m_bn[1] = train_B_M[:,1::2,1::2].reshape((train_B_M.shape[0],-1))\n",
    "valid_A_4m_bn[1] = valid_A_M[:,1::2,1::2].reshape((valid_A_M.shape[0],-1))\n",
    "valid_B_4m_bn[1] = valid_B_M[:,1::2,1::2].reshape((valid_B_M.shape[0],-1))\n",
    "\n",
    "train_A_4m_bn[2] = train_A_M[:,1::2,::2].reshape((train_A_M.shape[0],-1))\n",
    "train_B_4m_bn[2] = train_B_M[:,1::2,::2].reshape((train_B_M.shape[0],-1))\n",
    "valid_A_4m_bn[2] = valid_A_M[:,1::2,::2].reshape((valid_A_M.shape[0],-1))\n",
    "valid_B_4m_bn[2] = valid_B_M[:,1::2,::2].reshape((valid_B_M.shape[0],-1))\n",
    "\n",
    "train_A_4m_bn[3] = train_A_M[:,::2,1::2].reshape((train_A_M.shape[0],-1))\n",
    "train_B_4m_bn[3] = train_B_M[:,::2,1::2].reshape((train_B_M.shape[0],-1))\n",
    "valid_A_4m_bn[3] = valid_A_M[:,::2,1::2].reshape((valid_A_M.shape[0],-1))\n",
    "valid_B_4m_bn[3] = valid_B_M[:,::2,1::2].reshape((valid_B_M.shape[0],-1))\n",
    "\n",
    "# Normalization\n",
    "for i in range(4):\n",
    "    train_A_4m[i] = (train_A_4m_bn[i]-min(train_A_4m_bn[i].ravel()))/(max(train_A_4m_bn[i].ravel())-min(train_A_4m_bn[i].ravel()))\n",
    "    train_B_4m[i] = (train_B_4m_bn[i]-min(train_B_4m_bn[i].ravel()))/(max(train_B_4m_bn[i].ravel())-min(train_B_4m_bn[i].ravel()))\n",
    "    valid_A_4m[i] = (valid_A_4m_bn[i]-min(valid_A_4m_bn[i].ravel()))/(max(valid_A_4m_bn[i].ravel())-min(valid_A_4m_bn[i].ravel()))\n",
    "    valid_B_4m[i] = (valid_B_4m_bn[i]-min(valid_B_4m_bn[i].ravel()))/(max(valid_B_4m_bn[i].ravel())-min(valid_B_4m_bn[i].ravel()))\n"
   ]
  },
  {
   "cell_type": "code",
   "execution_count": 8,
   "metadata": {},
   "outputs": [
    {
     "name": "stderr",
     "output_type": "stream",
     "text": [
      "/anaconda3/envs/AI_char/lib/python3.6/site-packages/tensorflow/python/framework/dtypes.py:516: FutureWarning: Passing (type, 1) or '1type' as a synonym of type is deprecated; in a future version of numpy, it will be understood as (type, (1,)) / '(1,)type'.\n",
      "  _np_qint8 = np.dtype([(\"qint8\", np.int8, 1)])\n",
      "/anaconda3/envs/AI_char/lib/python3.6/site-packages/tensorflow/python/framework/dtypes.py:517: FutureWarning: Passing (type, 1) or '1type' as a synonym of type is deprecated; in a future version of numpy, it will be understood as (type, (1,)) / '(1,)type'.\n",
      "  _np_quint8 = np.dtype([(\"quint8\", np.uint8, 1)])\n",
      "/anaconda3/envs/AI_char/lib/python3.6/site-packages/tensorflow/python/framework/dtypes.py:518: FutureWarning: Passing (type, 1) or '1type' as a synonym of type is deprecated; in a future version of numpy, it will be understood as (type, (1,)) / '(1,)type'.\n",
      "  _np_qint16 = np.dtype([(\"qint16\", np.int16, 1)])\n",
      "/anaconda3/envs/AI_char/lib/python3.6/site-packages/tensorflow/python/framework/dtypes.py:519: FutureWarning: Passing (type, 1) or '1type' as a synonym of type is deprecated; in a future version of numpy, it will be understood as (type, (1,)) / '(1,)type'.\n",
      "  _np_quint16 = np.dtype([(\"quint16\", np.uint16, 1)])\n",
      "/anaconda3/envs/AI_char/lib/python3.6/site-packages/tensorflow/python/framework/dtypes.py:520: FutureWarning: Passing (type, 1) or '1type' as a synonym of type is deprecated; in a future version of numpy, it will be understood as (type, (1,)) / '(1,)type'.\n",
      "  _np_qint32 = np.dtype([(\"qint32\", np.int32, 1)])\n",
      "/anaconda3/envs/AI_char/lib/python3.6/site-packages/tensorflow/python/framework/dtypes.py:525: FutureWarning: Passing (type, 1) or '1type' as a synonym of type is deprecated; in a future version of numpy, it will be understood as (type, (1,)) / '(1,)type'.\n",
      "  np_resource = np.dtype([(\"resource\", np.ubyte, 1)])\n"
     ]
    },
    {
     "name": "stdout",
     "output_type": "stream",
     "text": [
      "WARNING:tensorflow:From /anaconda3/envs/AI_char/lib/python3.6/site-packages/tensorflow/python/compat/v2_compat.py:61: disable_resource_variables (from tensorflow.python.ops.variable_scope) is deprecated and will be removed in a future version.\n",
      "Instructions for updating:\n",
      "non-resource variables are not supported in the long term\n"
     ]
    },
    {
     "name": "stderr",
     "output_type": "stream",
     "text": [
      "/anaconda3/envs/AI_char/lib/python3.6/site-packages/tensorboard/compat/tensorflow_stub/dtypes.py:541: FutureWarning: Passing (type, 1) or '1type' as a synonym of type is deprecated; in a future version of numpy, it will be understood as (type, (1,)) / '(1,)type'.\n",
      "  _np_qint8 = np.dtype([(\"qint8\", np.int8, 1)])\n",
      "/anaconda3/envs/AI_char/lib/python3.6/site-packages/tensorboard/compat/tensorflow_stub/dtypes.py:542: FutureWarning: Passing (type, 1) or '1type' as a synonym of type is deprecated; in a future version of numpy, it will be understood as (type, (1,)) / '(1,)type'.\n",
      "  _np_quint8 = np.dtype([(\"quint8\", np.uint8, 1)])\n",
      "/anaconda3/envs/AI_char/lib/python3.6/site-packages/tensorboard/compat/tensorflow_stub/dtypes.py:543: FutureWarning: Passing (type, 1) or '1type' as a synonym of type is deprecated; in a future version of numpy, it will be understood as (type, (1,)) / '(1,)type'.\n",
      "  _np_qint16 = np.dtype([(\"qint16\", np.int16, 1)])\n",
      "/anaconda3/envs/AI_char/lib/python3.6/site-packages/tensorboard/compat/tensorflow_stub/dtypes.py:544: FutureWarning: Passing (type, 1) or '1type' as a synonym of type is deprecated; in a future version of numpy, it will be understood as (type, (1,)) / '(1,)type'.\n",
      "  _np_quint16 = np.dtype([(\"quint16\", np.uint16, 1)])\n",
      "/anaconda3/envs/AI_char/lib/python3.6/site-packages/tensorboard/compat/tensorflow_stub/dtypes.py:545: FutureWarning: Passing (type, 1) or '1type' as a synonym of type is deprecated; in a future version of numpy, it will be understood as (type, (1,)) / '(1,)type'.\n",
      "  _np_qint32 = np.dtype([(\"qint32\", np.int32, 1)])\n",
      "/anaconda3/envs/AI_char/lib/python3.6/site-packages/tensorboard/compat/tensorflow_stub/dtypes.py:550: FutureWarning: Passing (type, 1) or '1type' as a synonym of type is deprecated; in a future version of numpy, it will be understood as (type, (1,)) / '(1,)type'.\n",
      "  np_resource = np.dtype([(\"resource\", np.ubyte, 1)])\n"
     ]
    },
    {
     "name": "stdout",
     "output_type": "stream",
     "text": [
      "1.14.0\n"
     ]
    }
   ],
   "source": [
    "from __future__ import division, print_function\n",
    "import matplotlib\n",
    "import matplotlib.pyplot as plt\n",
    "from IPython.display import Image, display, clear_output\n",
    "%matplotlib nbagg\n",
    "%matplotlib inline \n",
    "import numpy as np\n",
    "import matplotlib.pyplot as plt\n",
    "from sklearn.utils import shuffle\n",
    "import sklearn.datasets\n",
    "import tensorflow as tf\n",
    "from tensorflow.python.framework.ops import reset_default_graph\n",
    "# import tensorflow as tf\n",
    "import tensorflow.compat.v1 as tf\n",
    "tf.disable_v2_behavior()\n",
    "print(tf.__version__)\n",
    "from tensorflow.contrib.layers import fully_connected\n",
    "from tensorflow.python.ops.nn import relu, sigmoid"
   ]
  },
  {
   "cell_type": "code",
   "execution_count": 9,
   "metadata": {},
   "outputs": [
    {
     "name": "stdout",
     "output_type": "stream",
     "text": [
      "num_features: 256\n"
     ]
    }
   ],
   "source": [
    "num_features = train_A_4m[0].shape[1]\n",
    "print(\"num_features:\", num_features)\n",
    "# reset graph\n",
    "reset_default_graph()\n",
    "\n",
    "# define the model\n",
    "A = tf.placeholder(tf.float32, [None, num_features], 'A')\n",
    "B = tf.placeholder(tf.float32, [None, num_features], 'B')\n",
    "enc_1 = fully_connected(inputs=A, num_outputs=128, activation_fn=relu, scope='enc_1')\n",
    "enc_2 = fully_connected(inputs=enc_1, num_outputs=32, activation_fn=relu, scope='enc_2')\n",
    "l_z = fully_connected(inputs=enc_2, num_outputs=4, activation_fn=None, scope='l_z') # None indicates a linear output.\n",
    "dec_2 = fully_connected(inputs=l_z, num_outputs=32, activation_fn=relu, scope='dec_2')\n",
    "dec_1 = fully_connected(inputs=dec_2, num_outputs=128, activation_fn=relu, scope='dec_1')\n",
    "A_hat = fully_connected(inputs=dec_1, num_outputs=num_features, activation_fn=sigmoid) # iid pixel intensities between 0 and 1.\n",
    "\n",
    "# calculate loss\n",
    "# loss_per_pixel = tf.square(tf.subtract(A_hat, B))\n",
    "loss_per_pixel = tf.square(tf.subtract(A_hat, B))\n",
    "loss = tf.reduce_mean(loss_per_pixel, name=\"mean_square_error\")\n",
    "\n",
    "# define our optimizer\n",
    "optimizer = tf.train.GradientDescentOptimizer(learning_rate=0.25)\n",
    "\n",
    "# make training op for applying the gradients\n",
    "train_op = optimizer.minimize(loss)"
   ]
  },
  {
   "cell_type": "markdown",
   "metadata": {},
   "source": [
    "#### Clear Arguments in the Model"
   ]
  },
  {
   "cell_type": "code",
   "execution_count": 10,
   "metadata": {},
   "outputs": [
    {
     "name": "stdout",
     "output_type": "stream",
     "text": [
      "WARNING:tensorflow:From /anaconda3/envs/AI_char/lib/python3.6/site-packages/tensorflow/python/util/tf_should_use.py:193: initialize_all_variables (from tensorflow.python.ops.variables) is deprecated and will be removed after 2017-03-02.\n",
      "Instructions for updating:\n",
      "Use `tf.global_variables_initializer` instead.\n",
      "A_hat (32, 256)\n",
      "Tensor(\"mean_square_error:0\", shape=(), dtype=float32)\n"
     ]
    }
   ],
   "source": [
    "# test the forward pass\n",
    "_A_test = np.zeros(shape=(32, num_features))\n",
    "_B_targets = np.zeros(shape=(32, num_features))\n",
    "# initialize the Session\n",
    "sess = tf.Session()\n",
    "# test the forward pass\n",
    "sess.run(tf.initialize_all_variables())\n",
    "feed_dict = {A: _A_test, B: _B_targets}\n",
    "res_forward_pass = sess.run(fetches=[A_hat, loss], feed_dict=feed_dict)\n",
    "print(\"A_hat\", res_forward_pass[0].shape)\n",
    "print(loss)\n",
    "# in this case, the learned arguments are all zero"
   ]
  },
  {
   "cell_type": "code",
   "execution_count": 11,
   "metadata": {},
   "outputs": [],
   "source": [
    "def run_model(M_train_A, M_train_B, M_valid_A, M_valid_B, file_index, batch_size=3, num_epochs=150):\n",
    "    num_samples_train = M_train_A.shape[0] # 3500 #30  30*256 \n",
    "    num_batches_train = num_samples_train // batch_size\n",
    "    updates = []\n",
    "\n",
    "    train_loss = []\n",
    "    valid_loss = []\n",
    "    cur_loss = 0\n",
    "    reset_default_graph()\n",
    "    plt.figure(figsize=(12, 12))\n",
    "    \n",
    "    num_char_dim = 1\n",
    "    display_size = int((n+1)/2) # n = order = 32\n",
    "    # global variable pt = 256 is defined in Pre-processing[4]\n",
    "    \n",
    "    try:\n",
    "        for epoch in range(num_epochs):\n",
    "            #Forward->Backprob->Update params\n",
    "            cur_loss = []\n",
    "            for i in range(num_batches_train):\n",
    "                idxs = np.random.choice(range(M_train_A.shape[0]), size=(batch_size), replace=False)    \n",
    "                x_A_batch = M_train_A[idxs]\n",
    "                x_B_batch = M_train_B[idxs]\n",
    "                # setup what to fetch, notice l\n",
    "                fetches_train = [train_op, loss, A_hat, l_z]\n",
    "                feed_dict_train = {A: x_A_batch, B: x_B_batch}    # --------------------\n",
    "                # do the complete backprob pass\n",
    "                res_train = sess.run(fetches_train, feed_dict_train)\n",
    "                _, batch_loss, train_out, train_z = tuple(res_train)\n",
    "                cur_loss += [batch_loss]\n",
    "            train_loss += [np.mean(cur_loss)]\n",
    "            updates += [batch_size*num_batches_train*(epoch+1)] # batch_size*num_batches_train =num_samples_train\n",
    "    \n",
    "            # Evaluate     # train_op not used for optimizing!!!\n",
    "            fetches_eval = [loss, A_hat, l_z]\n",
    "            ##################### select the valid set #####################\n",
    "            feed_dict_eval = {A: M_valid_A, B: M_valid_B}      # -----------------------\n",
    "            res_valid = sess.run(fetches_eval, feed_dict_eval)       \n",
    "            eval_loss, eval_out, eval_z = tuple(res_valid)\n",
    "            valid_loss += [eval_loss]\n",
    "\n",
    "            if epoch == 0:\n",
    "                continue\n",
    "\n",
    "            # Plotting\n",
    "            idx = 0\n",
    "            plt.subplot(2,2,1)\n",
    "            plt.cla() # clear the plot on the this(current) figure\n",
    "            plt.title('Error')\n",
    "            plt.xlabel('Updates'); plt.ylabel('Error')\n",
    "            plt.plot(updates, train_loss, color=\"red\")\n",
    "            plt.plot(updates, valid_loss, color=\"blue\")\n",
    "            plt.legend(['Train Error', 'Valid Error'])\n",
    "            plt.ticklabel_format(style='sci', axis='x', scilimits=(0,0))\n",
    "            plt.grid('on')\n",
    "\n",
    "            plt.subplot(2,2,2)\n",
    "            plt.cla()\n",
    "            plt.title(\"Target Outputs\")\n",
    "            plt.axis('off')\n",
    "    #         print(eval_out)\n",
    "            plt.imshow(eval_out[idx].reshape((display_size, display_size)))\n",
    "            \n",
    "            plt.subplot(2,2,3)\n",
    "            plt.cla()\n",
    "            plt.title(\"Source Fonts\")\n",
    "            plt.axis('off')\n",
    "    #         print(M_valid_A[0])\n",
    "            plt.imshow(M_valid_A[idx].reshape((display_size, display_size)))\n",
    "                    \n",
    "            plt.subplot(2,2,4)\n",
    "            plt.cla()\n",
    "            plt.title(\"Target Fonts\")\n",
    "            plt.axis('off')\n",
    "            plt.imshow(M_valid_B[idx].reshape((display_size, display_size)))\n",
    "            \n",
    "                       \n",
    "            filename = str(file_index) + \"_output_epoch\" + str(num_epochs) + \"_pt\" + str(pt) + \".png\"\n",
    "            plt.savefig(filename)\n",
    "            display(Image(filename=filename))\n",
    "            \n",
    "    #         plt.savefig(\"output.png\")\n",
    "    #         display(Image(filename=\"output.png\"))\n",
    "            clear_output(wait=True)\n",
    "    except KeyboardInterrupt:\n",
    "        pass \n",
    "    \n",
    "    return eval_out"
   ]
  },
  {
   "cell_type": "code",
   "execution_count": 12,
   "metadata": {
    "scrolled": false
   },
   "outputs": [],
   "source": [
    "# target_m0 = run_model(train_A_4m[0], train_B_4m[0], valid_A_4m[0], valid_B_4m[0],0)\n",
    "# np.savez('/Users/Giatti/Desktop/AI篆刻/ImageMoments/m4.npz', target_m0 = target_m0 )"
   ]
  },
  {
   "cell_type": "code",
   "execution_count": 13,
   "metadata": {},
   "outputs": [],
   "source": [
    "# target_m1 = run_model(train_A_4m[1], train_B_4m[1], valid_A_4m[1], valid_B_4m[1],1,num_epochs=650)\n",
    "# np.savez('/Users/Giatti/Desktop/AI篆刻/ImageMoments/m4.npz', target_m1 = target_m1 )"
   ]
  },
  {
   "cell_type": "code",
   "execution_count": 14,
   "metadata": {},
   "outputs": [],
   "source": [
    "# target_m2 = run_model(train_A_4m[2], train_B_4m[2], valid_A_4m[2], valid_B_4m[2],2,num_epochs=800)\n",
    "# np.savez('/Users/Giatti/Desktop/AI篆刻/ImageMoments/m4.npz', target_m2 = target_m2 )"
   ]
  },
  {
   "cell_type": "code",
   "execution_count": 15,
   "metadata": {
    "scrolled": false
   },
   "outputs": [
    {
     "data": {
      "image/png": "[encoded data removed]",
      "text/plain": [
       "<Figure size 864x864 with 4 Axes>"
      ]
     },
     "metadata": {
      "needs_background": "light"
     },
     "output_type": "display_data"
    }
   ],
   "source": [
    "target_m3 = run_model(train_A_4m[3], train_B_4m[3], valid_A_4m[3], valid_B_4m[3],3,num_epochs=800)\n",
    "np.savez('/Users/Giatti/Desktop/AI篆刻/ImageMoments/m4.npz', target_m3 = target_m3 )"
   ]
  },
  {
   "cell_type": "code",
   "execution_count": null,
   "metadata": {},
   "outputs": [],
   "source": []
  },
  {
   "cell_type": "code",
   "execution_count": null,
   "metadata": {},
   "outputs": [],
   "source": []
  },
  {
   "cell_type": "code",
   "execution_count": null,
   "metadata": {},
   "outputs": [],
   "source": []
  },
  {
   "cell_type": "code",
   "execution_count": null,
   "metadata": {},
   "outputs": [],
   "source": []
  },
  {
   "cell_type": "markdown",
   "metadata": {},
   "source": [
    "## Post-processing"
   ]
  },
  {
   "cell_type": "code",
   "execution_count": null,
   "metadata": {},
   "outputs": [],
   "source": []
  },
  {
   "cell_type": "code",
   "execution_count": null,
   "metadata": {},
   "outputs": [],
   "source": []
  },
  {
   "cell_type": "code",
   "execution_count": null,
   "metadata": {},
   "outputs": [],
   "source": []
  },
  {
   "cell_type": "markdown",
   "metadata": {},
   "source": [
    "### Trial"
   ]
  },
  {
   "cell_type": "code",
   "execution_count": 16,
   "metadata": {},
   "outputs": [
    {
     "data": {
      "image/png": "[encoded data removed]",
      "text/plain": [
       "<Figure size 432x288 with 1 Axes>"
      ]
     },
     "metadata": {
      "needs_background": "light"
     },
     "output_type": "display_data"
    }
   ],
   "source": [
    "F_rec = np.dot(np.dot(Q.T,M),Q)\n",
    "img_rec = F_rec.T\n",
    "plt.imshow(img_rec,'gray')\n",
    "plt.show()"
   ]
  },
  {
   "cell_type": "code",
   "execution_count": 17,
   "metadata": {},
   "outputs": [
    {
     "data": {
      "image/png": "[encoded data removed]",
      "text/plain": [
       "<Figure size 1080x1080 with 5 Axes>"
      ]
     },
     "metadata": {
      "needs_background": "light"
     },
     "output_type": "display_data"
    }
   ],
   "source": [
    "M = train_B_M[0]\n",
    "M_0 = M[::2,::2] \n",
    "M_1 = M[1::2,1::2]\n",
    "M_2 = M[1::2,::2]\n",
    "M_3 = M[::2,1::2]\n",
    "plt.figure(figsize=(15, 15)) \n",
    "plt.subplot(151); plt.imshow(M)\n",
    "plt.subplot(152); plt.imshow(M_0)\n",
    "plt.subplot(153); plt.imshow(M_1)\n",
    "plt.subplot(154); plt.imshow(M_2)\n",
    "plt.subplot(155); plt.imshow(M_3)\n",
    "plt.show()"
   ]
  },
  {
   "cell_type": "code",
   "execution_count": 18,
   "metadata": {},
   "outputs": [
    {
     "data": {
      "image/png": "[encoded data removed]",
      "text/plain": [
       "<Figure size 432x288 with 1 Axes>"
      ]
     },
     "metadata": {
      "needs_background": "light"
     },
     "output_type": "display_data"
    }
   ],
   "source": [
    "F_rec = np.dot(np.dot(Q.T,M),Q)\n",
    "img_rec = F_rec.T\n",
    "plt.imshow(img_rec,'gray')\n",
    "plt.show()"
   ]
  },
  {
   "cell_type": "code",
   "execution_count": 19,
   "metadata": {},
   "outputs": [
    {
     "ename": "NameError",
     "evalue": "name 'train_A_M0_bn' is not defined",
     "output_type": "error",
     "traceback": [
      "\u001b[0;31m---------------------------------------------------------------------------\u001b[0m",
      "\u001b[0;31mNameError\u001b[0m                                 Traceback (most recent call last)",
      "\u001b[0;32m<ipython-input-19-7fc8b566a931>\u001b[0m in \u001b[0;36m<module>\u001b[0;34m\u001b[0m\n\u001b[1;32m      1\u001b[0m \u001b[0mplt\u001b[0m\u001b[0;34m.\u001b[0m\u001b[0msubplot\u001b[0m\u001b[0;34m(\u001b[0m\u001b[0;36m221\u001b[0m\u001b[0;34m)\u001b[0m\u001b[0;34m\u001b[0m\u001b[0;34m\u001b[0m\u001b[0m\n\u001b[0;32m----> 2\u001b[0;31m \u001b[0mplt\u001b[0m\u001b[0;34m.\u001b[0m\u001b[0mimshow\u001b[0m\u001b[0;34m(\u001b[0m\u001b[0mtrain_A_M0_bn\u001b[0m\u001b[0;34m[\u001b[0m\u001b[0;36m0\u001b[0m\u001b[0;34m]\u001b[0m\u001b[0;34m.\u001b[0m\u001b[0mreshape\u001b[0m\u001b[0;34m(\u001b[0m\u001b[0;36m16\u001b[0m\u001b[0;34m,\u001b[0m\u001b[0;36m16\u001b[0m\u001b[0;34m)\u001b[0m\u001b[0;34m)\u001b[0m\u001b[0;34m\u001b[0m\u001b[0;34m\u001b[0m\u001b[0m\n\u001b[0m\u001b[1;32m      3\u001b[0m \u001b[0mplt\u001b[0m\u001b[0;34m.\u001b[0m\u001b[0msubplot\u001b[0m\u001b[0;34m(\u001b[0m\u001b[0;36m222\u001b[0m\u001b[0;34m)\u001b[0m\u001b[0;34m\u001b[0m\u001b[0;34m\u001b[0m\u001b[0m\n\u001b[1;32m      4\u001b[0m \u001b[0mplt\u001b[0m\u001b[0;34m.\u001b[0m\u001b[0mimshow\u001b[0m\u001b[0;34m(\u001b[0m\u001b[0mtrain_B_M0_bn\u001b[0m\u001b[0;34m[\u001b[0m\u001b[0;36m0\u001b[0m\u001b[0;34m]\u001b[0m\u001b[0;34m.\u001b[0m\u001b[0mreshape\u001b[0m\u001b[0;34m(\u001b[0m\u001b[0;36m16\u001b[0m\u001b[0;34m,\u001b[0m\u001b[0;36m16\u001b[0m\u001b[0;34m)\u001b[0m\u001b[0;34m)\u001b[0m\u001b[0;34m\u001b[0m\u001b[0;34m\u001b[0m\u001b[0m\n\u001b[1;32m      5\u001b[0m \u001b[0mplt\u001b[0m\u001b[0;34m.\u001b[0m\u001b[0msubplot\u001b[0m\u001b[0;34m(\u001b[0m\u001b[0;36m223\u001b[0m\u001b[0;34m)\u001b[0m\u001b[0;34m\u001b[0m\u001b[0;34m\u001b[0m\u001b[0m\n",
      "\u001b[0;31mNameError\u001b[0m: name 'train_A_M0_bn' is not defined"
     ]
    },
    {
     "data": {
      "image/png": "[encoded data removed]",
      "text/plain": [
       "<Figure size 432x288 with 1 Axes>"
      ]
     },
     "metadata": {
      "needs_background": "light"
     },
     "output_type": "display_data"
    }
   ],
   "source": [
    "plt.subplot(221)\n",
    "plt.imshow(train_A_M0_bn[0].reshape(16,16))\n",
    "plt.subplot(222)\n",
    "plt.imshow(train_B_M0_bn[0].reshape(16,16))\n",
    "plt.subplot(223)\n",
    "plt.imshow(train_A_M0[0].reshape(16,16))\n",
    "plt.subplot(224)\n",
    "plt.imshow(train_B_M0[0].reshape(16,16))\n"
   ]
  }
 ],
 "metadata": {
  "kernelspec": {
   "display_name": "AI_char",
   "language": "python",
   "name": "ai_char"
  },
  "language_info": {
   "codemirror_mode": {
    "name": "ipython",
    "version": 3
   },
   "file_extension": ".py",
   "mimetype": "text/x-python",
   "name": "python",
   "nbconvert_exporter": "python",
   "pygments_lexer": "ipython3",
   "version": "3.6.10"
  }
 },
 "nbformat": 4,
 "nbformat_minor": 2
}
