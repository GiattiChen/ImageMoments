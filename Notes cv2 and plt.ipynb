{
 "cells": [
  {
   "cell_type": "code",
   "execution_count": null,
   "metadata": {},
   "outputs": [],
   "source": [
    "import cv2 \n",
    "import numpy as np \n",
    "import matplotlib.pyplot as plt \n",
    "\n",
    "img = cv2.imread('lena_std.tif') \n",
    "b,g,r = cv2.split(img) \n",
    "img2 = cv2.merge([r,g,b]) \n",
    "plt.subplot(121);plt.imshow(img) \n",
    "plt.subplot(122);plt.imshow(img2) \n",
    "plt.show() \n",
    "\n",
    "cv2.imshow('bgr image',img) \n",
    "cv2.imshow('rgb image',img2) \n",
    "cv2.waitKey(0) \n",
    "cv2.destroyAllWindows()"
   ]
  }
 ],
 "metadata": {
  "kernelspec": {
   "display_name": "Python 3",
   "language": "python",
   "name": "python3"
  },
  "language_info": {
   "codemirror_mode": {
    "name": "ipython",
    "version": 3
   },
   "file_extension": ".py",
   "mimetype": "text/x-python",
   "name": "python",
   "nbconvert_exporter": "python",
   "pygments_lexer": "ipython3",
   "version": "3.6.5"
  }
 },
 "nbformat": 4,
 "nbformat_minor": 2
}
