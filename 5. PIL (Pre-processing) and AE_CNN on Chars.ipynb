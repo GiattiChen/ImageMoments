{
 "cells": [
  {
   "cell_type": "markdown",
   "metadata": {},
   "source": [
    "# PIL -> get_characters"
   ]
  },
  {
   "cell_type": "markdown",
   "metadata": {},
   "source": [
    "## Pre-processing"
   ]
  },
  {
   "cell_type": "code",
   "execution_count": 1,
   "metadata": {},
   "outputs": [],
   "source": [
    "import os, json\n",
    "from PIL import Image, ImageDraw, ImageFont,ImageFilter\n",
    "import PIL.Image\n",
    "import numpy as np\n",
    "import scipy as sp\n",
    "import matplotlib.pyplot as plt"
   ]
  },
  {
   "cell_type": "code",
   "execution_count": 2,
   "metadata": {},
   "outputs": [],
   "source": [
    "# Example of calling the function: get_glyph_img(\"上\",\"STHeiti Medium.ttc\",pt = 28)\n",
    "# Return: numpy.ndarray\n",
    "def get_glyph_img(character, fontname,\n",
    "    pt = 256, binarize = True,\n",
    "    descent_offset = True, offset=0):\n",
    "    \"\"\"Get image of a certain glyph from the given font\n",
    "    Parameters\n",
    "    ----------\n",
    "    character: str\n",
    "        The character to draw\n",
    "    pt: int\n",
    "        Number of pixels horizontally and vertically\n",
    "    binarize: boolean\n",
    "        Return a binary image or not\n",
    "    fontname: str\n",
    "        The font file name\n",
    "    \n",
    "    Returns\n",
    "    ----------\n",
    "    glyph_img: numpy.ndarray\n",
    "        A greyscale image of the glyph, with its foreground in white (255) and\n",
    "        background in black (0). \n",
    "    \"\"\"\n",
    "    width = height = pt\n",
    "    font = ImageFont.truetype(fontname, pt)  # the size of the char is pt\n",
    "    \n",
    "    _, descent = font.getmetrics()\n",
    "#     start = -descent+offset if descent_offset else 0\n",
    "    start = offset if descent_offset else 0\n",
    "    img = PIL.Image.new('L', (pt, pt), 0)\n",
    "    draw = ImageDraw.Draw(img)\n",
    "    draw.text((0, start), character, 255, font = font)\n",
    "    img_array = np.array(img, dtype = np.uint8)\n",
    "    if not binarize: return img_array\n",
    "    else: return (img_array > 128).astype(np.uint8)\n",
    "    \n",
    "#     ascent, descent = font.getmetrics()\n",
    "#     (font_width, font_height), (offset_x, offset_y) = font.font.getsize(character)\n",
    "#     img = Image.new('L', (width, height), 0)   # set up the background with size pt*pt\n",
    "#     draw = ImageDraw.Draw(img)\n",
    "#     draw.text((width/2-(font_width/2+offset_x),height/2-(font_height/2+offset_y)) ,character, fill=255,font=font)\n",
    "# #     draw.text(((width-font_width)/2-offset_x/2, (height-font_height)/2-offset_y/2-descent/2), character, fill=255,font=font) # draw character\n",
    "#     img.show()\n",
    "#     return img"
   ]
  },
  {
   "cell_type": "code",
   "execution_count": 3,
   "metadata": {},
   "outputs": [],
   "source": [
    "def descent_offset(pt, fontname,characters):\n",
    "    # calculate the offset needed to set the character in the middle of the graph\n",
    "    res = np.zeros(len(characters))\n",
    "    width = height = pt\n",
    "    font = ImageFont.truetype(fontname, pt)  # the size of the char is pt\n",
    "    for i in range (len(characters)):\n",
    "        (font_width, font_height), (offset_x, offset_y) = font.font.getsize(characters[i])\n",
    "        res[i] = height/2-(font_height/2+offset_y)\n",
    "    \n",
    "    return np.mean(res)"
   ]
  },
  {
   "cell_type": "code",
   "execution_count": 4,
   "metadata": {},
   "outputs": [
    {
     "name": "stdout",
     "output_type": "stream",
     "text": [
      "The length of the sentence is 30\n"
     ]
    }
   ],
   "source": [
    "sentence = ''\n",
    "pt = 28 # global variable defination ------------------------!!!!!!!!!!!!-----------------------------\n",
    "for line in open('./common-standard-chinese-characters-table-master/level-1.txt','r'):\n",
    "    rs = line.replace('\\n','')\n",
    "    sentence =sentence + rs\n",
    "for line in open('./common-standard-chinese-characters-table-master/level-2.txt','r'):\n",
    "    rs = line.replace('\\n','')\n",
    "    sentence =sentence + rs\n",
    "    \n",
    "sentence = sentence[20:50]\n",
    "print('The length of the sentence is {}'.format(len(sentence)))"
   ]
  },
  {
   "cell_type": "code",
   "execution_count": 5,
   "metadata": {},
   "outputs": [],
   "source": [
    "def npz_char(pt = 28, fontname1 = \"Songti.ttc\", fontname2 = \"STHeiti Medium.ttc\"):\n",
    "    # sentence --> the list of characters\n",
    "    global sentence\n",
    "    sentence_train = sentence\n",
    "    print('The length of the sentence_train is {}'.format(len(sentence_train)))\n",
    "    \n",
    "    sentence_train = list(sentence_train)\n",
    "    # delete same elements in the list\n",
    "    dic_train={}\n",
    "    characters_train = list(dic_train.fromkeys(sentence_train).keys())\n",
    "    # Determine descent_offset for both fonts \n",
    "    offset1 = descent_offset(pt,fontname1,characters_train)\n",
    "    print(\"For {}, the offset is {}\".format(fontname1,offset1))\n",
    "    offset2 = descent_offset(pt,fontname2,characters_train)\n",
    "    print(\"For {}, the offset is {}\".format(fontname2,offset2))\n",
    "    \n",
    "    # Training set #\n",
    "    num_chars_train = len(characters_train)\n",
    "    font1_chars_train = np.zeros((num_chars_train, pt*pt),dtype = np.uint8)  # (num_chars, 784)\n",
    "    font2_chars_train = np.zeros((num_chars_train, pt*pt),dtype = np.uint8)  # (num_chars, 784)\n",
    "    \n",
    "    for i in range(num_chars_train):\n",
    "        font1_chars_train[i] = get_glyph_img(characters_train[i], fontname1, pt = pt, binarize = True, offset = offset1).flatten()\n",
    "        font2_chars_train[i] = get_glyph_img(characters_train[i], fontname2, pt = pt, binarize = True, offset = offset2).flatten()\n",
    "    \n",
    "    # Valid set #\n",
    "    # PS: select the Validing Set from Training Set\n",
    "    idx = np.random.choice(range(len(sentence_train)), size =len(sentence_train)//5, replace=False)\n",
    "#     idx = np.random.choice(range(2000), size =len(sentence_train)//5, replace=False)\n",
    "    idx.sort()\n",
    "    sentence_valid = list(sentence[i] for i in idx)\n",
    "    print('The length of the sentence_valid is {}'.format(len(sentence_valid)))\n",
    "    sentence_valid = ''.join(sentence_valid)\n",
    "    sentence_valid = list(sentence_valid)\n",
    "#     print(sentence_valid)\n",
    "    dic_valid={}\n",
    "    characters_valid = list(dic_valid.fromkeys(sentence_valid).keys()) # delete same elements in the list\n",
    "    num_chars_valid = len(characters_valid)\n",
    "    font1_chars_valid = np.zeros((num_chars_valid, pt*pt),dtype = np.uint8)  # (num_chars, 784)\n",
    "    font2_chars_valid = np.zeros((num_chars_valid, pt*pt),dtype = np.uint8)  # (num_chars, 784)\n",
    "    \n",
    "    for i in range(num_chars_valid):\n",
    "        # .flatten 28*28->784\n",
    "        font1_chars_valid[i] = get_glyph_img(characters_valid[i], fontname1, pt = pt, binarize = True, offset = offset1).flatten()\n",
    "        font2_chars_valid[i] = get_glyph_img(characters_valid[i], fontname2, pt = pt, binarize = True, offset = offset2).flatten()\n",
    "    # Testing set\n",
    "    # Not used until now\n",
    "    \n",
    "    # Save the data\n",
    "    np.savez('/Users/Giatti/Desktop/AI篆刻/ImageMoments/data.npz', \\\n",
    "             X_train = font1_chars_train, y_train = font2_chars_train, \\\n",
    "             X_valid = font1_chars_valid, y_valid = font2_chars_valid)\n",
    "    return"
   ]
  },
  {
   "cell_type": "code",
   "execution_count": 6,
   "metadata": {},
   "outputs": [
    {
     "name": "stdout",
     "output_type": "stream",
     "text": [
      "The length of the sentence_train is 30\n",
      "For Songti.ttc, the offset is -5.683333333333334\n",
      "For STHeiti Medium.ttc, the offset is -1.2833333333333334\n",
      "The length of the sentence_valid is 6\n"
     ]
    }
   ],
   "source": [
    "npz_char(pt = pt, fontname1 = \"Songti.ttc\", fontname2 = \"STHeiti Medium.ttc\")"
   ]
  },
  {
   "cell_type": "markdown",
   "metadata": {},
   "source": [
    "#### try to load from the npz file "
   ]
  },
  {
   "cell_type": "code",
   "execution_count": 7,
   "metadata": {},
   "outputs": [],
   "source": [
    "data = np.load('/Users/Giatti/Desktop/AI篆刻/ImageMoments/data.npz')"
   ]
  },
  {
   "cell_type": "code",
   "execution_count": 8,
   "metadata": {},
   "outputs": [
    {
     "name": "stdout",
     "output_type": "stream",
     "text": [
      "define the pt = 28\n"
     ]
    },
    {
     "data": {
      "image/png": "[encoded data removed]",
      "text/plain": [
       "<Figure size 648x360 with 6 Axes>"
      ]
     },
     "metadata": {
      "needs_background": "light"
     },
     "output_type": "display_data"
    }
   ],
   "source": [
    "print(\"define the pt = {}\".format(pt))\n",
    "plt.figure(figsize=(9, 5)) \n",
    "# idx = np.random.choice(np.arange(6600))\n",
    "plt.subplot(231); plt.imshow(data['X_train'][0].reshape(pt,pt),\"gray\" )\n",
    "plt.subplot(234); plt.imshow(data['y_train'][0].reshape(pt,pt),\"gray\" )\n",
    "\n",
    "plt.subplot(232); plt.imshow(data['X_train'][1].reshape(pt,pt),\"gray\" )\n",
    "plt.subplot(235); plt.imshow(data['y_train'][1].reshape(pt,pt),\"gray\" )\n",
    "\n",
    "plt.subplot(233); plt.imshow(data['X_train'][2].reshape(pt,pt),\"gray\" )\n",
    "plt.subplot(236); plt.imshow(data['y_train'][2].reshape(pt,pt),\"gray\" )\n",
    "plt.tight_layout()\n",
    "plt.show()"
   ]
  },
  {
   "cell_type": "markdown",
   "metadata": {},
   "source": [
    "# Pre-processing Finished -> AE_CNN"
   ]
  },
  {
   "cell_type": "markdown",
   "metadata": {},
   "source": [
    "### Import and Pre-process the Data (data.nzp file with {'X_train': _____ , 'y_train': _____ , 'X_valid': _____ , 'y_valid': _____ })"
   ]
  },
  {
   "cell_type": "code",
   "execution_count": 24,
   "metadata": {},
   "outputs": [
    {
     "data": {
      "text/plain": [
       "'1.14.0'"
      ]
     },
     "execution_count": 24,
     "metadata": {},
     "output_type": "execute_result"
    }
   ],
   "source": [
    "from __future__ import division, print_function\n",
    "import matplotlib\n",
    "import matplotlib.pyplot as plt\n",
    "from IPython.display import Image, display, clear_output\n",
    "%matplotlib nbagg\n",
    "%matplotlib inline \n",
    "import numpy as np\n",
    "import matplotlib.pyplot as plt\n",
    "from sklearn.utils import shuffle\n",
    "import sklearn.datasets\n",
    "import tensorflow as tf\n",
    "from tensorflow.python.framework.ops import reset_default_graph\n",
    "# import tensorflow as tf\n",
    "import tensorflow.compat.v1 as tf\n",
    "tf.disable_v2_behavior()\n",
    "tf.__version__\n"
   ]
  },
  {
   "cell_type": "code",
   "execution_count": 10,
   "metadata": {
    "scrolled": true
   },
   "outputs": [
    {
     "name": "stdout",
     "output_type": "stream",
     "text": [
      "Shape of train_A: (30, 784)\n",
      "Shape of train_B: (30, 784)\n",
      "(784,)\n",
      "Shape of train_A and train_B: (30, 784)\n",
      "Shape of valid_A and valid_B: (6, 784)\n"
     ]
    }
   ],
   "source": [
    "data = np.load('/Users/Giatti/Desktop/AI篆刻/ImageMoments/data.npz')\n",
    "print('Shape of train_A:', data['X_train'].shape) # there are 6500 Songti characters for training, with shape (34,784)\n",
    "print('Shape of train_B:', data['y_train'].shape) # there are 6500 STHeiti Medium for training, with shape (34,784)\n",
    "\n",
    "print(data['X_train'][0].shape)\n",
    "\n",
    "train_A = data['X_train'].astype(\"int8\")\n",
    "train_B = data['y_train'].astype(\"int8\")\n",
    "# mess up the order\n",
    "# train_A, train_B = shuffle(train_A, train_B, random_state = 1234) \n",
    "\n",
    "valid_A = data['X_valid'].astype(\"int8\")\n",
    "valid_B = data['y_valid'].astype(\"int8\")\n",
    "# valid_A, valid_B = shuffle(valid_A, valid_B, random_state = 1234)\n",
    "\n",
    "print('Shape of train_A and train_B:', train_A.shape)\n",
    "print('Shape of valid_A and valid_B:', valid_A.shape)"
   ]
  },
  {
   "cell_type": "markdown",
   "metadata": {},
   "source": [
    "### Building the model"
   ]
  },
  {
   "cell_type": "code",
   "execution_count": 18,
   "metadata": {},
   "outputs": [],
   "source": [
    "from tensorflow.contrib.layers import fully_connected\n",
    "from tensorflow.python.ops.nn import relu, sigmoid"
   ]
  },
  {
   "cell_type": "code",
   "execution_count": 22,
   "metadata": {},
   "outputs": [
    {
     "name": "stdout",
     "output_type": "stream",
     "text": [
      "num_features: 784\n"
     ]
    }
   ],
   "source": [
    "# define in/output size\n",
    "num_features = train_A.shape[1]\n",
    "print(\"num_features:\", num_features)\n",
    "# reset graph\n",
    "reset_default_graph()\n",
    "\n",
    "# # define the model_1\n",
    "# A = tf.placeholder(tf.float32, [None, num_features], 'A')\n",
    "# B = tf.placeholder(tf.float32, [None, num_features], 'B')\n",
    "# l_enc = fully_connected(inputs=A, num_outputs=128, activation_fn=relu, scope='l_enc')\n",
    "# l_z = fully_connected(inputs=l_enc, num_outputs=2, activation_fn=None, scope='l_z') # None indicates a linear output.\n",
    "# l_dec = fully_connected(inputs=l_z, num_outputs=128, activation_fn=relu, scope='l_dec')\n",
    "# A_hat = fully_connected(inputs=l_dec, num_outputs=num_features, activation_fn=sigmoid) # iid pixel intensities between 0 and 1.\n",
    "\n",
    "# define the model_2\n",
    "A = tf.placeholder(tf.float32, [None, num_features], 'A')\n",
    "B = tf.placeholder(tf.float32, [None, num_features], 'B')\n",
    "enc_1 = fully_connected(inputs=A, num_outputs=128, activation_fn=relu, scope='enc_1')\n",
    "enc_2 = fully_connected(inputs=enc_1, num_outputs=32, activation_fn=relu, scope='enc_2')\n",
    "l_z = fully_connected(inputs=enc_2, num_outputs=4, activation_fn=None, scope='l_z') # None indicates a linear output.\n",
    "dec_2 = fully_connected(inputs=l_z, num_outputs=32, activation_fn=relu, scope='dec_2')\n",
    "dec_1 = fully_connected(inputs=dec_2, num_outputs=128, activation_fn=relu, scope='dec_1')\n",
    "A_hat = fully_connected(inputs=dec_1, num_outputs=num_features, activation_fn=sigmoid) # iid pixel intensities between 0 and 1.\n",
    "\n",
    "\n",
    "# calculate loss\n",
    "# loss_per_pixel = tf.square(tf.subtract(A_hat, B))\n",
    "loss_per_pixel = tf.square(tf.subtract(A_hat,  B))\n",
    "loss = tf.reduce_mean(loss_per_pixel, name=\"mean_square_error\")\n",
    "\n",
    "# define our optimizer\n",
    "optimizer = tf.train.GradientDescentOptimizer(learning_rate=0.25)\n",
    "\n",
    "# make training op for applying the gradients\n",
    "train_op = optimizer.minimize(loss)"
   ]
  },
  {
   "cell_type": "markdown",
   "metadata": {},
   "source": [
    "Following we define the TensorFlow functions for training and evaluation."
   ]
  },
  {
   "cell_type": "code",
   "execution_count": 23,
   "metadata": {},
   "outputs": [
    {
     "name": "stdout",
     "output_type": "stream",
     "text": [
      "A_hat (32, 784)\n",
      "Tensor(\"mean_square_error:0\", shape=(), dtype=float32)\n"
     ]
    }
   ],
   "source": [
    "# test the forward pass\n",
    "_A_test = np.zeros(shape=(32, num_features))\n",
    "_B_targets = np.zeros(shape=(32, num_features))\n",
    "# initialize the Session\n",
    "sess = tf.Session()\n",
    "# test the forward pass\n",
    "sess.run(tf.initialize_all_variables())\n",
    "feed_dict = {A: _A_test, B: _B_targets}\n",
    "res_forward_pass = sess.run(fetches=[A_hat, loss], feed_dict=feed_dict)\n",
    "print(\"A_hat\", res_forward_pass[0].shape)\n",
    "print(loss)\n",
    "# in this case, the learned arguments are all zero"
   ]
  },
  {
   "cell_type": "markdown",
   "metadata": {},
   "source": [
    "# Running the Model"
   ]
  },
  {
   "cell_type": "code",
   "execution_count": 26,
   "metadata": {},
   "outputs": [
    {
     "data": {
      "image/png": "[encoded data removed]",
      "text/plain": [
       "<Figure size 864x864 with 4 Axes>"
      ]
     },
     "metadata": {
      "needs_background": "light"
     },
     "output_type": "display_data"
    }
   ],
   "source": [
    "batch_size = 1\n",
    "num_epochs = 500\n",
    "num_samples_train = train_A.shape[0] # 3500 #30\n",
    "num_batches_train = num_samples_train // batch_size\n",
    "# num_samples_valid = valid_A.shape[0] # 1000 #6\n",
    "# num_batches_valid = num_samples_valid // batch_size\n",
    "updates = []\n",
    "\n",
    "train_loss = []\n",
    "valid_loss = []\n",
    "cur_loss = 0\n",
    "reset_default_graph()\n",
    "plt.figure(figsize=(12, 12))\n",
    "\n",
    "num_char_dim = 2\n",
    "# global variable pt = 256 is defined in Pre-processing[4]\n",
    "\n",
    "try:\n",
    "    for epoch in range(num_epochs):\n",
    "        #Forward->Backprob->Update params\n",
    "        cur_loss = []\n",
    "        for i in range(num_batches_train):\n",
    "            idxs = np.random.choice(range(train_A.shape[0]), size=(batch_size), replace=False)    \n",
    "            x_A_batch = train_A[idxs]\n",
    "            x_B_batch = train_B[idxs]\n",
    "            # setup what to fetch, notice l\n",
    "            fetches_train = [train_op, loss, A_hat, l_z]\n",
    "            feed_dict_train = {A: x_A_batch, B: x_B_batch}    # --------------------\n",
    "            # do the complete backprob pass\n",
    "            res_train = sess.run(fetches_train, feed_dict_train)\n",
    "            _, batch_loss, train_out, train_z = tuple(res_train)\n",
    "            cur_loss += [batch_loss]\n",
    "        train_loss += [np.mean(cur_loss)]\n",
    "        updates += [batch_size*num_batches_train*(epoch+1)] # batch_size*num_batches_train =num_samples_train\n",
    "\n",
    "        # Evaluate     # train_op not used for optimizing!!!\n",
    "        fetches_eval = [loss, A_hat, l_z]\n",
    "        ##################### select the valid set #####################\n",
    "        feed_dict_eval = {A: valid_A, B: valid_B}      # -----------------------\n",
    "        res_valid = sess.run(fetches_eval, feed_dict_eval)       \n",
    "        eval_loss, eval_out, eval_z = tuple(res_valid)\n",
    "        valid_loss += [eval_loss]\n",
    "\n",
    "        if epoch == 0:\n",
    "            continue\n",
    "\n",
    "        # Plotting\n",
    "        plt.subplot(2,2,1)\n",
    "        plt.cla() # clear the plot on the this(current) figure\n",
    "        plt.title('Error')\n",
    "        plt.xlabel('Updates'); plt.ylabel('Error')\n",
    "        plt.plot(updates, train_loss, color=\"red\")\n",
    "        plt.plot(updates, valid_loss, color=\"blue\")\n",
    "        plt.legend(['Train Error', 'Valid Error'])\n",
    "        plt.ticklabel_format(style='sci', axis='x', scilimits=(0,0))\n",
    "        plt.grid('on')\n",
    "\n",
    "        plt.subplot(2,2,2)\n",
    "        plt.cla()\n",
    "        plt.title(\"Target Outputs\")\n",
    "        plt.axis('off')\n",
    "        idx = 0\n",
    "        canvas = np.zeros((pt*num_char_dim, num_char_dim*pt))\n",
    "        for i in range(num_char_dim):\n",
    "            for j in range(num_char_dim):\n",
    "                canvas[i*pt:(i+1)*pt, j*pt:(j+1)*pt] = eval_out[idx].reshape((pt, pt))\n",
    "                idx += 1\n",
    "        plt.imshow(canvas, cmap='gray')\n",
    "        \n",
    "        plt.subplot(2,2,3)\n",
    "        plt.cla()\n",
    "        plt.title(\"Source Fonts\")\n",
    "        plt.axis('off')\n",
    "        idx = 0\n",
    "        canvas = np.zeros((pt*num_char_dim, num_char_dim*pt))\n",
    "        for i in range(num_char_dim):\n",
    "            for j in range(num_char_dim):\n",
    "                canvas[i*pt:(i+1)*pt, j*pt:(j+1)*pt] = valid_A[idx].reshape((pt, pt))\n",
    "#                 canvas[i*pt:(i+1)*pt, j*pt:(j+1)*pt] = train_A[idx].reshape((pt, pt))\n",
    "                idx += 1\n",
    "        plt.imshow(canvas, cmap='gray')\n",
    "                \n",
    "        plt.subplot(2,2,4)\n",
    "        plt.cla()\n",
    "        plt.title(\"Target Fonts\")\n",
    "        plt.axis('off')\n",
    "        idx = 0\n",
    "        canvas = np.zeros((pt*num_char_dim, num_char_dim*pt))\n",
    "        for i in range(num_char_dim):\n",
    "            for j in range(num_char_dim):\n",
    "                canvas[i*pt:(i+1)*pt, j*pt:(j+1)*pt] = valid_B[idx].reshape((pt, pt))\n",
    "#                 canvas[i*pt:(i+1)*pt, j*pt:(j+1)*pt] = train_B[idx].reshape((pt, pt))\n",
    "                idx += 1\n",
    "        plt.imshow(canvas, cmap='gray')\n",
    "        \n",
    "        filename = \"1111output_epoch\" + str(num_epochs) + \"_pt\" + str(pt) + \".png\"\n",
    "        plt.savefig(filename)\n",
    "        display(Image(filename=filename))\n",
    "        \n",
    "#         plt.savefig(\"output.png\")\n",
    "#         display(Image(filename=\"output.png\"))\n",
    "        clear_output(wait=True)\n",
    "except KeyboardInterrupt:\n",
    "    pass"
   ]
  },
  {
   "cell_type": "code",
   "execution_count": 15,
   "metadata": {},
   "outputs": [
    {
     "name": "stdout",
     "output_type": "stream",
     "text": [
      "(?, 784)\n"
     ]
    }
   ],
   "source": [
    "print(A_hat.shape)"
   ]
  },
  {
   "cell_type": "code",
   "execution_count": 16,
   "metadata": {},
   "outputs": [
    {
     "name": "stdout",
     "output_type": "stream",
     "text": [
      "0.35714285714285715\n",
      "0.1747448979591837\n"
     ]
    }
   ],
   "source": [
    "print(np.mean(np.square(train_A[-1]-train_A[-2])))\n",
    "print(np.mean(np.square(train_A[-1]-train_B[-1])))"
   ]
  },
  {
   "cell_type": "markdown",
   "metadata": {},
   "source": [
    "### draft"
   ]
  },
  {
   "cell_type": "code",
   "execution_count": 17,
   "metadata": {},
   "outputs": [
    {
     "ename": "NameError",
     "evalue": "name 'res' is not defined",
     "output_type": "error",
     "traceback": [
      "\u001b[0;31m---------------------------------------------------------------------------\u001b[0m",
      "\u001b[0;31mNameError\u001b[0m                                 Traceback (most recent call last)",
      "\u001b[0;32m<ipython-input-17-cec9a993d3e2>\u001b[0m in \u001b[0;36m<module>\u001b[0;34m\u001b[0m\n\u001b[0;32m----> 1\u001b[0;31m \u001b[0mimg_array\u001b[0m \u001b[0;34m=\u001b[0m \u001b[0mnp\u001b[0m\u001b[0;34m.\u001b[0m\u001b[0marray\u001b[0m\u001b[0;34m(\u001b[0m\u001b[0mres\u001b[0m\u001b[0;34m,\u001b[0m \u001b[0mdtype\u001b[0m \u001b[0;34m=\u001b[0m \u001b[0mnp\u001b[0m\u001b[0;34m.\u001b[0m\u001b[0muint8\u001b[0m\u001b[0;34m)\u001b[0m\u001b[0;34m\u001b[0m\u001b[0;34m\u001b[0m\u001b[0m\n\u001b[0m\u001b[1;32m      2\u001b[0m \u001b[0mprint\u001b[0m\u001b[0;34m(\u001b[0m\u001b[0mimg_array\u001b[0m\u001b[0;34m.\u001b[0m\u001b[0mdtype\u001b[0m\u001b[0;34m.\u001b[0m\u001b[0mname\u001b[0m\u001b[0;34m)\u001b[0m\u001b[0;34m\u001b[0m\u001b[0;34m\u001b[0m\u001b[0m\n\u001b[1;32m      3\u001b[0m \u001b[0;34m\u001b[0m\u001b[0m\n\u001b[1;32m      4\u001b[0m \u001b[0mprint\u001b[0m\u001b[0;34m(\u001b[0m\u001b[0mfont\u001b[0m\u001b[0;34m.\u001b[0m\u001b[0mgetmask\u001b[0m\u001b[0;34m(\u001b[0m\u001b[0;34m'H'\u001b[0m\u001b[0;34m)\u001b[0m\u001b[0;34m.\u001b[0m\u001b[0mgetbbox\u001b[0m\u001b[0;34m(\u001b[0m\u001b[0;34m)\u001b[0m\u001b[0;34m)\u001b[0m\u001b[0;34m\u001b[0m\u001b[0;34m\u001b[0m\u001b[0m\n\u001b[1;32m      5\u001b[0m \u001b[0mprint\u001b[0m\u001b[0;34m(\u001b[0m\u001b[0mfont\u001b[0m\u001b[0;34m.\u001b[0m\u001b[0mfont\u001b[0m\u001b[0;34m.\u001b[0m\u001b[0mgetsize\u001b[0m\u001b[0;34m(\u001b[0m\u001b[0;34m'H'\u001b[0m\u001b[0;34m)\u001b[0m\u001b[0;34m)\u001b[0m\u001b[0;34m\u001b[0m\u001b[0;34m\u001b[0m\u001b[0m\n",
      "\u001b[0;31mNameError\u001b[0m: name 'res' is not defined"
     ]
    }
   ],
   "source": [
    "img_array = np.array(res, dtype = np.uint8)\n",
    "print(img_array.dtype.name)\n",
    "\n",
    "print(font.getmask('H').getbbox())\n",
    "print(font.font.getsize('H'))\n",
    "\n",
    "pt = width = height = 1024\n",
    "font = ImageFont.truetype(\"Arial.ttf\", pt)\n",
    "ascent, descent = font.getmetrics()\n",
    "print(ascent,descent)\n",
    "(font_width, font_height), (offset_x, offset_y) = font.font.getsize('A')\n",
    "print(font.font.getsize(\"A\"))\n",
    "img = Image.new('L', (width, height),0)\n",
    "print(width,height)\n",
    "draw = ImageDraw.Draw(img)\n",
    "\n",
    "draw.text((width/2-(font_width/2+offset_x),height/2-(font_height/2+offset_y)) ,\"A\", fill=255,font=font)\n",
    "\n",
    "# draw.text(((width-font_width)/2-offset_x/2, (height-font_height)/2-offset_y/2-descent/2), \"A\", fill=255,font=font)\n",
    "img.show()"
   ]
  },
  {
   "cell_type": "code",
   "execution_count": null,
   "metadata": {},
   "outputs": [],
   "source": [
    "#plot a few  examples\n",
    "plt.figure(figsize=(15, 25)) # (width, height)\n",
    "\n",
    "idx = 0\n",
    "canvas = np.zeros((pt*10, 10*pt))\n",
    "for i in range(10):\n",
    "    for j in range(10):\n",
    "        canvas[i*pt:(i+1)*pt, j*pt:(j+1)*pt] = train_A[idx].reshape((pt, pt))\n",
    "        idx += 1\n",
    "plt.subplot(121).set_title('Songti characters')\n",
    "plt.axis('off')\n",
    "plt.imshow(canvas, cmap='gray')\n",
    "\n",
    "idx = 0\n",
    "canvas = np.zeros((pt*10, 10*pt))\n",
    "for i in range(10):\n",
    "    for j in range(10):\n",
    "        canvas[i*pt:(i+1)*pt, j*pt:(j+1)*pt] = train_B[idx].reshape((pt, pt))\n",
    "        idx += 1\n",
    "plt.subplot(122).set_title('STHeiti Medium')\n",
    "plt.axis('off')\n",
    "plt.imshow(canvas, cmap='gray')\n",
    "plt.show()"
   ]
  },
  {
   "cell_type": "code",
   "execution_count": null,
   "metadata": {},
   "outputs": [],
   "source": []
  },
  {
   "cell_type": "code",
   "execution_count": null,
   "metadata": {},
   "outputs": [],
   "source": [
    "# # testing1 \n",
    "# valid_A[:] = train_A[3]\n",
    "# valid_B[:] = train_B[3]\n",
    "# plt.imshow(valid_A[0].reshape(28,28),cmap='gray')\n",
    "# plt.show()\n",
    "# plt.imshow(valid_B[0].reshape(28,28),cmap='gray')\n",
    "# plt.show()\n",
    "\n",
    "# k=5\n",
    "# size = train_A.shape[0]//k\n",
    "# train_A[size*k:]= train_A[k-1] \n",
    "# train_B[size*k:]= train_B[k-1] \n",
    "# for i in range (k-1,0,-1):\n",
    "#     train_A[size*(i-1): size*i] = train_A[i-1]\n",
    "#     train_B[size*(i-1): size*i] = train_B[i-1]\n",
    "    \n",
    "# print(\"showing...\")\n",
    "# plt.imshow(train_A[0].reshape(28,28),cmap='gray')\n",
    "# plt.show()\n",
    "# plt.imshow(train_B[0].reshape(28,28),cmap='gray')\n",
    "# plt.show()\n",
    "# plt.imshow(train_A[102].reshape(28,28),cmap='gray')\n",
    "# plt.show()\n",
    "# plt.imshow(train_B[102].reshape(28,28),cmap='gray')\n",
    "# plt.show()\n"
   ]
  },
  {
   "cell_type": "code",
   "execution_count": null,
   "metadata": {},
   "outputs": [],
   "source": [
    "import os"
   ]
  },
  {
   "cell_type": "code",
   "execution_count": null,
   "metadata": {},
   "outputs": [],
   "source": [
    "print(os.path.dirname(os.path.abspath(__file__)))"
   ]
  },
  {
   "cell_type": "code",
   "execution_count": null,
   "metadata": {},
   "outputs": [],
   "source": [
    "filename = \"output_epoch\" + str(num_epochs) + \"_pt\" + str(pt) + \".png\"\n",
    "print(filename)"
   ]
  },
  {
   "cell_type": "code",
   "execution_count": null,
   "metadata": {},
   "outputs": [],
   "source": []
  }
 ],
 "metadata": {
  "kernelspec": {
   "display_name": "AI_char",
   "language": "python",
   "name": "ai_char"
  },
  "language_info": {
   "codemirror_mode": {
    "name": "ipython",
    "version": 3
   },
   "file_extension": ".py",
   "mimetype": "text/x-python",
   "name": "python",
   "nbconvert_exporter": "python",
   "pygments_lexer": "ipython3",
   "version": "3.6.10"
  }
 },
 "nbformat": 4,
 "nbformat_minor": 4
}
