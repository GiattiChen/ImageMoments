{
 "cells": [
  {
   "cell_type": "markdown",
   "metadata": {},
   "source": [
    "# PIL -> get_characters"
   ]
  },
  {
   "cell_type": "markdown",
   "metadata": {},
   "source": [
    "## Pre-processing"
   ]
  },
  {
   "cell_type": "code",
   "execution_count": 1,
   "metadata": {},
   "outputs": [],
   "source": [
    "import os, json\n",
    "from PIL import Image, ImageDraw, ImageFont,ImageFilter\n",
    "import PIL.Image\n",
    "import numpy as np\n",
    "import scipy as sp\n",
    "import matplotlib.pyplot as plt"
   ]
  },
  {
   "cell_type": "code",
   "execution_count": 2,
   "metadata": {},
   "outputs": [],
   "source": [
    "# Example of calling the function: get_glyph_img(\"上\",\"STHeiti Medium.ttc\",pt = 28)\n",
    "# Return: numpy.ndarray\n",
    "def get_glyph_img(character, fontname,\n",
    "    pt = 1024, binarize = True,\n",
    "    descent_offset = True, offset=0):\n",
    "    \"\"\"Get image of a certain glyph from the given font\n",
    "    Parameters\n",
    "    ----------\n",
    "    character: str\n",
    "        The character to draw\n",
    "    pt: int\n",
    "        Number of pixels horizontally and vertically\n",
    "    binarize: boolean\n",
    "        Return a binary image or not\n",
    "    fontname: str\n",
    "        The font file name\n",
    "    \n",
    "    Returns\n",
    "    ----------\n",
    "    glyph_img: numpy.ndarray\n",
    "        A greyscale image of the glyph, with its foreground in white (255) and\n",
    "        background in black (0). \n",
    "    \"\"\"\n",
    "    width = height = pt\n",
    "    font = ImageFont.truetype(fontname, pt)  # the size of the char is pt\n",
    "    \n",
    "    _, descent = font.getmetrics()\n",
    "#     start = -descent+offset if descent_offset else 0\n",
    "    start = offset if descent_offset else 0\n",
    "    img = PIL.Image.new('L', (pt, pt), 0)\n",
    "    draw = ImageDraw.Draw(img)\n",
    "    draw.text((0, start), character, 255, font = font)\n",
    "    img_array = np.array(img, dtype = np.uint8)\n",
    "    if not binarize: return img_array\n",
    "    else: return (img_array > 128).astype(np.uint8)\n",
    "    \n",
    "#     ascent, descent = font.getmetrics()\n",
    "#     (font_width, font_height), (offset_x, offset_y) = font.font.getsize(character)\n",
    "#     img = Image.new('L', (width, height), 0)   # set up the background with size pt*pt\n",
    "#     draw = ImageDraw.Draw(img)\n",
    "#     draw.text((width/2-(font_width/2+offset_x),height/2-(font_height/2+offset_y)) ,character, fill=255,font=font)\n",
    "# #     draw.text(((width-font_width)/2-offset_x/2, (height-font_height)/2-offset_y/2-descent/2), character, fill=255,font=font) # draw character\n",
    "#     img.show()\n",
    "#     return img"
   ]
  },
  {
   "cell_type": "code",
   "execution_count": 3,
   "metadata": {},
   "outputs": [],
   "source": [
    "def descent_offset(pt, fontname,characters):\n",
    "    res = np.zeros(len(characters))\n",
    "    width = height = pt\n",
    "    font = ImageFont.truetype(fontname, pt)  # the size of the char is pt\n",
    "    for i in range (len(characters)):\n",
    "        (font_width, font_height), (offset_x, offset_y) = font.font.getsize(characters[i])\n",
    "        res[i] = height/2-(font_height/2+offset_y)\n",
    "    \n",
    "    return np.mean(res)"
   ]
  },
  {
   "cell_type": "code",
   "execution_count": 4,
   "metadata": {},
   "outputs": [
    {
     "name": "stdout",
     "output_type": "stream",
     "text": [
      "The length of the sentence is 6500\n"
     ]
    }
   ],
   "source": [
    "sentence = ''\n",
    "for line in open('./common-standard-chinese-characters-table-master/level-1.txt','r'):\n",
    "    rs = line.replace('\\n','')\n",
    "    sentence =sentence + rs\n",
    "for line in open('./common-standard-chinese-characters-table-master/level-2.txt','r'):\n",
    "    rs = line.replace('\\n','')\n",
    "    sentence =sentence + rs\n",
    "\n",
    "print('The length of the sentence is {}'.format(len(sentence)))"
   ]
  },
  {
   "cell_type": "code",
   "execution_count": 5,
   "metadata": {},
   "outputs": [],
   "source": [
    "def npz_char(pt = 28, fontname1 = \"Songti.ttc\", fontname2 = \"STHeiti Medium.ttc\"):\n",
    "    global sentence\n",
    "    sentence_train = sentence\n",
    "    print('The length of the sentence_train is {}'.format(len(sentence_train)))\n",
    "    \n",
    "    sentence_train = list(sentence_train)\n",
    "    # delete same elements in the list\n",
    "    dic_train={}\n",
    "    characters_train = list(dic_train.fromkeys(sentence_train).keys())\n",
    "    # Determine descent_offset for both fonts \n",
    "    offset1 = descent_offset(pt,fontname1,characters_train)\n",
    "    print(\"For {}, the offset is {}\".format(fontname1,offset1))\n",
    "    offset2 = descent_offset(pt,fontname2,characters_train)\n",
    "    print(\"For {}, the offset is {}\".format(fontname2,offset2))\n",
    "    # Training set #\n",
    "    num_chars_train = len(characters_train)\n",
    "    font1_chars_train = np.zeros((num_chars_train, pt*pt),dtype = np.uint8)  # (num_chars, 784)\n",
    "    font2_chars_train = np.zeros((num_chars_train, pt*pt),dtype = np.uint8)  # (num_chars, 784)\n",
    "    \n",
    "    for i in range(num_chars_train):\n",
    "        font1_chars_train[i] = get_glyph_img(characters_train[i], fontname1, pt = pt, binarize = True, offset = offset1).flatten()\n",
    "        font2_chars_train[i] = get_glyph_img(characters_train[i], fontname2, pt = pt, binarize = True, offset = offset2).flatten()\n",
    "    # Valid set #\n",
    "    idx = np.random.choice(range(2000), size =len(sentence_train)//5, replace=False)\n",
    "    print(idx)\n",
    "    sentence_valid = list(sentence[i] for i in idx)\n",
    "    print('The length of the sentence_valid is {}'.format(len(sentence_valid)))\n",
    "    sentence_valid = ''.join(sentence_valid)\n",
    "    print(sentence_valid)\n",
    "    sentence_valid = list(sentence_valid)\n",
    "    dic_valid={}\n",
    "    characters_valid = list(dic_valid.fromkeys(sentence_valid).keys()) # delete same elements in the list\n",
    "    num_chars_valid = len(characters_valid)\n",
    "    font1_chars_valid = np.zeros((num_chars_valid, pt*pt),dtype = np.uint8)  # (num_chars, 784)\n",
    "    font2_chars_valid = np.zeros((num_chars_valid, pt*pt),dtype = np.uint8)  # (num_chars, 784)\n",
    "    \n",
    "    for i in range(num_chars_valid):\n",
    "        # .flatten 28*28->784\n",
    "        font1_chars_valid[i] = get_glyph_img(characters_valid[i], fontname1, pt = pt, binarize = True, offset = offset1).flatten()\n",
    "        font2_chars_valid[i] = get_glyph_img(characters_valid[i], fontname2, pt = pt, binarize = True, offset = offset2).flatten()\n",
    "    # Testing set\n",
    "    # Not used until now\n",
    "    \n",
    "    # Save the data\n",
    "    np.savez('/Users/Giatti/Desktop/AI篆刻/ImageMoments/data.npz', \\\n",
    "             X_train = font1_chars_train, y_train = font2_chars_train, \\\n",
    "             X_valid = font1_chars_valid, y_valid = font2_chars_valid)\n",
    "    return"
   ]
  },
  {
   "cell_type": "code",
   "execution_count": 6,
   "metadata": {},
   "outputs": [
    {
     "name": "stdout",
     "output_type": "stream",
     "text": [
      "The length of the sentence_train is 6500\n",
      "For Songti.ttc, the offset is -5.9183076923076925\n",
      "For STHeiti Medium.ttc, the offset is -1.2127692307692308\n",
      "[ 419 1443  275 ... 1562 1971 1258]\n",
      "The length of the sentence_valid is 1300\n",
      "吁威仔埃砂尘壳刑洞垂拔参钞特归径泄灶冬竹完咨健阳斤弃农说或冷咒挚送行佣纷神驮胞仙芥茄要芳耍诫唧误奶配玫扒鬼虎胶纤迫甘妃十刺尬倚屯曰免无又执投苗来电都卖致卤栓物挺杯氢购紧巧叩哺建邪玻波呻昏弯闰帜囤吮今秤技思申垃定荷闪浇抚坊秀间泉素劳沪玩尼状毒迂盹莹八首值驴胜里沥示及万诵日种亩具迟左俏软妮拼比狱旦业主沟伴奏拄壬战狠贬更咏抹豺脆秦损纬反籽袁入右钳哗垦栖乎舰窃队秉饥钉不屉泽刃加方刀柿光咕侨刻贱举拙卜扰挡拨俭诚亢侍函庙戎朵咪姑附茬秃差芬芦哎杆岁回诞染治驹与夸代兔孩此讯哇肝什奸叨共疟步乃挟洼牵辽屈荡兹桔从骂气妥界勿泰注译坯士出泼拍帖论挽倡迪阶异荫造亚巴奔禾挪拽扑乞捣巾眨斩没泻纯除因皆坡苛话伯岭乱拯和岩钮羽肃幼死卸侥桂勉埋饮炫吓饺杉占炮月乘决秒肥聂柳枣杀囚吨捞衣玉灾怨乙汉犯血食茎构若蚂芹龙前娃蚌省岖阿迁唉庆凭启绚衬仿浅侠卵钙积讼帘辱坪钱抽客缸走违铃条夯哉珠剔应专束县袄经呆莲莺组虾用拂公们犹件川民到防羊恤笔韧刚侣采追扫阴医艰芋北有孟晃侈中迅趴帝拘壶莱炊抢年了舍乏哆众母宛夷文住泪乒迹丙矩垮顶息凤成也怡旭树冶节脏罗苦丧线院细现咧帕挫卉氧合亏鸭吱朽拱拗胰六哥济坷层势贴驳烈倘妒力田股础挖仇速驱拭卯索动供待闯氛将觉歼桌阵坑芭斥牺括革押良录哩唁连私恐胸俩怠咱顽豆俯开宋杭青恶所爸贵名互舌栽达迷倦闽侄砌歪匠吊孔克妙卡册响败危栅妇厘己绊钥爱佃俊贾挨疯义场研档言顾丽荣厕垒昨给洗议转透玛疙戒扳武闲麦沮忙鸣点尸机肋仍逐坎柬抡纠企退古苹爹拒元韭吐烁徊测拥纫扔卧叔邻求旨尝背创派予面东付勾迭借隶识吹茅耕却户捎巷叽侮发党柴吞徐脂灯字号狂扎帚审炸货妈吠闷玄俄型一诈色怯挤典沉纲林狰英姜化兴次片庚修酉圆脐凶放逝牧须云练划过吾罢台肾曲栏春丘吴虽绎乌扣贪振恬乐恢斗制止坠当尤弦厌奉逊凯荒水纹丑久乳污穿抓峦庭唠怎戈肤码屿匹耳狭孕饱班会芙心倔吧区监原勃持珍导哟训冈峰哪呐陡斧怒历挥初村拉捆吏茁姐哀哈咳头对侧侵招诱贡拿统钟纪罕念亭赤府功处总页甫立仓施法包肠材足盯矾永圃伟伺铁科翁饲沾驰尺弄砖旺牲辰友虐妻莉郑廷呢巩殃作史劲寿白耗庞迎杖护担蚓姆汪忠鸥松芯桩彻汛幸衫钝贩汞独欢权卑胖印告火凸洒丰选品忽午平妖匣剑吉巫钓肘钧质儿约央芒畅绑江闭伐狞圣钦含二介寸刹玲去即逆忌仅寻蚣恒弘绅讨份学盈茂类轰爪交伏她胃沙角上咸娇丹勺肯炭形枉自卷运砚宗岳纱姻讽臣轮歹始必鸟秧讥范盆半泳美苟拷屋王赵扶杂讳写映皂凡尾胳殷汝勋幻米务勇非根尚耻射妹夕实另宝舟秩牡市姓匀格祠栋讹星甚记药声骇设捐恩盐幽欧压见荔殴获干浑带叫局究币匿复捏围沿杏叛很盲贷胡同挑哲床访如征沼抱卫砰陆式丢并汁失垛咋的蚁批晒飞证拇习冯陌扁单拾极峻晋早某大贺兵吩托峭目哼吕咐显丫柄舱术正亡该亥伦劫雨奖夺体陈巳莽佳胚吵段丈父老汤冲贫泵捡何灼砸你厉彼拦保枕呈传问捌鸯妄分似仲肺讶枢充债吼绍使沫昧竿津活估荤邦氓姨剂军杜浓咽山还翅态夫全狐级试诗休查奴贿冻券觅载产俺叮听毛邮些严绒板帮怕庇宫冠贝昼毡呵骆房冗盼沛绕尖洛认律店拖甸账巡希玷池本苇瓦师陋疮妓沐轧抄环耐狮安哮莫较这郊耙沈宜坐劣视柔罚季炼娄沦扬艳助恰妆室夹找哦柑宦轩则驼茸杠闹驯肴析哑吻时唆枪快周计捍块序旷团击汽乍帅宅拆枫蚕刮肮卦饰抵臼骨判困恭叼咬沁别校促躬沸\n"
     ]
    }
   ],
   "source": [
    "npz_char(pt = 28, fontname1 = \"Songti.ttc\", fontname2 = \"STHeiti Medium.ttc\")"
   ]
  },
  {
   "cell_type": "code",
   "execution_count": null,
   "metadata": {},
   "outputs": [],
   "source": []
  },
  {
   "cell_type": "code",
   "execution_count": 15,
   "metadata": {},
   "outputs": [],
   "source": [
    "data = np.load('/Users/Giatti/Desktop/AI篆刻/ImageMoments/data.npz')"
   ]
  },
  {
   "cell_type": "code",
   "execution_count": 16,
   "metadata": {},
   "outputs": [
    {
     "name": "stdout",
     "output_type": "stream",
     "text": [
      "define the pt = 28\n"
     ]
    },
    {
     "data": {
      "image/png": "[encoded data removed]",
      "text/plain": [
       "<Figure size 648x360 with 6 Axes>"
      ]
     },
     "metadata": {
      "needs_background": "light"
     },
     "output_type": "display_data"
    }
   ],
   "source": [
    "pt = 28\n",
    "print(\"define the pt = {}\".format(pt))\n",
    "plt.figure(figsize=(9, 5)) \n",
    "# idx = np.random.choice(np.arange(6600))\n",
    "plt.subplot(231); plt.imshow(data['X_train'][0].reshape(pt,pt),\"gray\" )\n",
    "plt.subplot(234); plt.imshow(data['y_train'][0].reshape(pt,pt),\"gray\" )\n",
    "\n",
    "plt.subplot(232); plt.imshow(data['X_train'][1].reshape(pt,pt),\"gray\" )\n",
    "plt.subplot(235); plt.imshow(data['y_train'][1].reshape(pt,pt),\"gray\" )\n",
    "\n",
    "plt.subplot(233); plt.imshow(data['X_train'][2].reshape(pt,pt),\"gray\" )\n",
    "plt.subplot(236); plt.imshow(data['y_train'][2].reshape(pt,pt),\"gray\" )\n",
    "plt.tight_layout()\n",
    "plt.show()"
   ]
  },
  {
   "cell_type": "markdown",
   "metadata": {},
   "source": [
    "# Pre-processing Finished -> AE_CNN"
   ]
  },
  {
   "cell_type": "markdown",
   "metadata": {},
   "source": [
    "### Import and Pre-process the Data (data.nzp file with {'X_train': _____ , 'y_train': _____ , 'X_valid': _____ , 'y_valid': _____ })"
   ]
  },
  {
   "cell_type": "code",
   "execution_count": 17,
   "metadata": {},
   "outputs": [
    {
     "data": {
      "text/plain": [
       "'1.14.0'"
      ]
     },
     "execution_count": 17,
     "metadata": {},
     "output_type": "execute_result"
    }
   ],
   "source": [
    "from __future__ import division, print_function\n",
    "import matplotlib\n",
    "import matplotlib.pyplot as plt\n",
    "from IPython.display import Image, display, clear_output\n",
    "%matplotlib nbagg\n",
    "%matplotlib inline \n",
    "import numpy as np\n",
    "import matplotlib.pyplot as plt\n",
    "from sklearn.utils import shuffle\n",
    "import sklearn.datasets\n",
    "import tensorflow as tf\n",
    "from tensorflow.python.framework.ops import reset_default_graph\n",
    "import tensorflow as tf\n",
    "tf.__version__"
   ]
  },
  {
   "cell_type": "code",
   "execution_count": 18,
   "metadata": {
    "scrolled": true
   },
   "outputs": [
    {
     "name": "stdout",
     "output_type": "stream",
     "text": [
      "Shape of train_A: (6500, 784)\n",
      "Shape of train_B: (6500, 784)\n",
      "Shape of train_A and train_B: (6500, 784)\n",
      "Shape of valid_A and valid_B: (1300, 784)\n"
     ]
    }
   ],
   "source": [
    "data = np.load('/Users/Giatti/Desktop/AI篆刻/ImageMoments/data.npz')\n",
    "print('Shape of train_A:', data['X_train'].shape) # there are 34 Songti characters for training, with shape (34,784)\n",
    "print('Shape of train_B:', data['y_train'].shape) # there are 34 STHeiti Medium for training, with shape (34,784)\n",
    "\n",
    "# print(data['X_train'][0])\n",
    "train_A = data['X_train'].astype(\"int8\")\n",
    "train_B = data['y_train'].astype(\"int8\")\n",
    "train_A, train_B = shuffle(train_A, train_B, random_state = 1234) #\n",
    "\n",
    "valid_A = data['X_valid'].astype(\"int8\")\n",
    "valid_B = data['y_valid'].astype(\"int8\")\n",
    "valid_A, valid_B = shuffle(valid_A, valid_B, random_state = 1234)\n",
    "print('Shape of train_A and train_B:', train_A.shape)\n",
    "print('Shape of valid_A and valid_B:', valid_A.shape)"
   ]
  },
  {
   "cell_type": "markdown",
   "metadata": {},
   "source": [
    "### Building the model"
   ]
  },
  {
   "cell_type": "code",
   "execution_count": 19,
   "metadata": {},
   "outputs": [],
   "source": [
    "from tensorflow.contrib.layers import fully_connected\n",
    "from tensorflow.python.ops.nn import relu, sigmoid"
   ]
  },
  {
   "cell_type": "code",
   "execution_count": 20,
   "metadata": {},
   "outputs": [],
   "source": [
    "# define in/output size\n",
    "num_features = train_A.shape[1]\n",
    "\n",
    "# reset graph\n",
    "reset_default_graph()\n",
    "\n",
    "# define the model\n",
    "A = tf.placeholder(tf.float32, [None, num_features], 'A')\n",
    "B = tf.placeholder(tf.float32, [None, num_features], 'B')\n",
    "l_enc = fully_connected(inputs=A, num_outputs=128, activation_fn=relu, scope='l_enc')\n",
    "l_z = fully_connected(inputs=l_enc, num_outputs=2, activation_fn=None, scope='l_z') # None indicates a linear output.\n",
    "l_dec = fully_connected(inputs=l_z, num_outputs=128, activation_fn=relu, scope='l_dec')\n",
    "A_hat = fully_connected(inputs=l_dec, num_outputs=num_features, activation_fn=sigmoid) # iid pixel intensities between 0 and 1.\n",
    "\n",
    "# calculate loss\n",
    "# loss_per_pixel = tf.square(tf.subtract(A_hat, B))\n",
    "loss_per_pixel = tf.square(tf.subtract(A_hat,  B))\n",
    "loss = tf.reduce_mean(loss_per_pixel, name=\"mean_square_error\")\n",
    "\n",
    "# define our optimizer\n",
    "optimizer = tf.train.GradientDescentOptimizer(learning_rate=0.25)\n",
    "\n",
    "# make training op for applying the gradients\n",
    "train_op = optimizer.minimize(loss)"
   ]
  },
  {
   "cell_type": "markdown",
   "metadata": {},
   "source": [
    "Following we define the TensorFlow functions for training and evaluation."
   ]
  },
  {
   "cell_type": "code",
   "execution_count": 21,
   "metadata": {},
   "outputs": [
    {
     "name": "stdout",
     "output_type": "stream",
     "text": [
      "A_hat (32, 784)\n",
      "Tensor(\"mean_square_error:0\", shape=(), dtype=float32)\n"
     ]
    }
   ],
   "source": [
    "# test the forward pass\n",
    "_A_test = np.zeros(shape=(32, num_features))\n",
    "_B_targets = np.zeros(shape=(32, num_features))\n",
    "# initialize the Session\n",
    "sess = tf.Session()\n",
    "# test the forward pass\n",
    "sess.run(tf.initialize_all_variables())\n",
    "feed_dict = {A: _A_test, B: _B_targets}\n",
    "res_forward_pass = sess.run(fetches=[A_hat, loss], feed_dict=feed_dict)\n",
    "print(\"A_hat\", res_forward_pass[0].shape)\n",
    "print(loss)"
   ]
  },
  {
   "cell_type": "code",
   "execution_count": 14,
   "metadata": {
    "scrolled": true
   },
   "outputs": [
    {
     "data": {
      "image/png": "[encoded data removed]",
      "text/plain": [
       "<Figure size 432x288 with 1 Axes>"
      ]
     },
     "metadata": {
      "needs_background": "light"
     },
     "output_type": "display_data"
    },
    {
     "data": {
      "image/png": "[encoded data removed]",
      "text/plain": [
       "<Figure size 432x288 with 1 Axes>"
      ]
     },
     "metadata": {
      "needs_background": "light"
     },
     "output_type": "display_data"
    },
    {
     "data": {
      "image/png": "[encoded data removed]",
      "text/plain": [
       "<Figure size 432x288 with 1 Axes>"
      ]
     },
     "metadata": {
      "needs_background": "light"
     },
     "output_type": "display_data"
    },
    {
     "data": {
      "image/png": "[encoded data removed]",
      "text/plain": [
       "<Figure size 432x288 with 1 Axes>"
      ]
     },
     "metadata": {
      "needs_background": "light"
     },
     "output_type": "display_data"
    },
    {
     "data": {
      "image/png": "[encoded data removed]",
      "text/plain": [
       "<Figure size 432x288 with 1 Axes>"
      ]
     },
     "metadata": {
      "needs_background": "light"
     },
     "output_type": "display_data"
    },
    {
     "data": {
      "image/png": "[encoded data removed]",
      "text/plain": [
       "<Figure size 432x288 with 1 Axes>"
      ]
     },
     "metadata": {
      "needs_background": "light"
     },
     "output_type": "display_data"
    }
   ],
   "source": [
    "# # testing1 \n",
    "valid_A[:] = train_A[3]\n",
    "valid_B[:] = train_B[3]\n",
    "plt.imshow(valid_A[0].reshape(28,28),cmap='gray')\n",
    "plt.show()\n",
    "plt.imshow(valid_B[0].reshape(28,28),cmap='gray')\n",
    "plt.show()\n",
    "\n",
    "k=5\n",
    "size = train_A.shape[0]//k\n",
    "train_A[size*k:]= train_A[k-1] \n",
    "train_B[size*k:]= train_B[k-1] \n",
    "for i in range (k-1,0,-1):\n",
    "    train_A[size*(i-1): size*i] = train_A[i-1]\n",
    "    train_B[size*(i-1): size*i] = train_B[i-1]\n",
    "    \n",
    "\n",
    "plt.imshow(train_A[0].reshape(28,28),cmap='gray')\n",
    "plt.show()\n",
    "plt.imshow(train_B[0].reshape(28,28),cmap='gray')\n",
    "plt.show()\n",
    "plt.imshow(train_A[102].reshape(28,28),cmap='gray')\n",
    "plt.show()\n",
    "plt.imshow(train_B[102].reshape(28,28),cmap='gray')\n",
    "plt.show()\n",
    "\n"
   ]
  },
  {
   "cell_type": "markdown",
   "metadata": {},
   "source": [
    "# Running the Model"
   ]
  },
  {
   "cell_type": "code",
   "execution_count": 22,
   "metadata": {},
   "outputs": [
    {
     "data": {
      "image/png": "[encoded data removed]",
      "text/plain": [
       "<Figure size 864x1728 with 4 Axes>"
      ]
     },
     "metadata": {
      "needs_background": "light"
     },
     "output_type": "display_data"
    }
   ],
   "source": [
    "batch_size = 1\n",
    "num_epochs = 100\n",
    "num_samples_train = train_A.shape[0] # 3500\n",
    "num_batches_train = num_samples_train // batch_size\n",
    "# num_samples_valid = valid_A.shape[0] # 1000\n",
    "# num_batches_valid = num_samples_valid // batch_size\n",
    "updates = []\n",
    "\n",
    "train_loss = []\n",
    "valid_loss = []\n",
    "cur_loss = 0\n",
    "reset_default_graph()\n",
    "plt.figure(figsize=(12, 24))\n",
    "\n",
    "num_char_dim = 2\n",
    "\n",
    "\n",
    "try:\n",
    "    for epoch in range(num_epochs):\n",
    "        #Forward->Backprob->Update params\n",
    "        cur_loss = []\n",
    "        for i in range(num_batches_train):\n",
    "            idxs = np.random.choice(range(train_A.shape[0]), size=(batch_size), replace=False)    \n",
    "            x_A_batch = train_A[idxs]\n",
    "            x_B_batch = train_B[idxs]\n",
    "            # setup what to fetch, notice l\n",
    "            fetches_train = [train_op, loss, A_hat, l_z]\n",
    "            feed_dict_train = {A: x_A_batch, B: x_B_batch}    # --------------------\n",
    "            # do the complete backprob pass\n",
    "            res_train = sess.run(fetches_train, feed_dict_train)\n",
    "            _, batch_loss, train_out, train_z = tuple(res_train)\n",
    "            cur_loss += [batch_loss]\n",
    "        train_loss += [np.mean(cur_loss)]\n",
    "        updates += [batch_size*num_batches_train*(epoch+1)] # batch_size*num_batches_train =num_samples_train\n",
    "\n",
    "        # Evaluate     # train_op not used for optimizing!!!\n",
    "        fetches_eval = [loss, A_hat, l_z]\n",
    "        ##################### select the valid set #####################\n",
    "        feed_dict_eval = {A: valid_A, B: valid_B}      # -----------------------\n",
    "        res_valid = sess.run(fetches_eval, feed_dict_eval)       \n",
    "        eval_loss, eval_out, eval_z = tuple(res_valid)\n",
    "        valid_loss += [eval_loss]\n",
    "\n",
    "        if epoch == 0:\n",
    "            continue\n",
    "\n",
    "        # Plotting\n",
    "        plt.subplot(2,2,1)\n",
    "        plt.cla() # clear the plot on the this(current) figure\n",
    "        plt.title('Error')\n",
    "        plt.xlabel('Updates'); plt.ylabel('Error')\n",
    "        plt.plot(updates, train_loss, color=\"red\")\n",
    "        plt.plot(updates, valid_loss, color=\"blue\")\n",
    "        plt.legend(['Train Error', 'Valid Error'])\n",
    "        plt.ticklabel_format(style='sci', axis='x', scilimits=(0,0))\n",
    "        plt.grid('on')\n",
    "\n",
    "        plt.subplot(2,2,2)\n",
    "        plt.cla()\n",
    "        plt.title(\"Target Outputs\")\n",
    "        plt.axis('off')\n",
    "        idx = 0\n",
    "        canvas = np.zeros((pt*num_char_dim, num_char_dim*pt))\n",
    "        for i in range(num_char_dim):\n",
    "            for j in range(num_char_dim):\n",
    "                canvas[i*pt:(i+1)*pt, j*pt:(j+1)*pt] = eval_out[idx].reshape((pt, pt))\n",
    "                idx += 1\n",
    "        plt.imshow(canvas, cmap='gray')\n",
    "        \n",
    "        plt.subplot(2,2,3)\n",
    "        plt.cla()\n",
    "        plt.title(\"Source Fonts\")\n",
    "        plt.axis('off')\n",
    "        idx = 0\n",
    "        canvas = np.zeros((pt*num_char_dim, num_char_dim*pt))\n",
    "        for i in range(num_char_dim):\n",
    "            for j in range(num_char_dim):\n",
    "                canvas[i*pt:(i+1)*pt, j*pt:(j+1)*pt] = valid_A[idx].reshape((pt, pt))\n",
    "#                 canvas[i*pt:(i+1)*pt, j*pt:(j+1)*pt] = train_A[idx].reshape((pt, pt))\n",
    "                idx += 1\n",
    "        plt.imshow(canvas, cmap='gray')\n",
    "                \n",
    "        plt.subplot(2,2,4)\n",
    "        plt.cla()\n",
    "        plt.title(\"Target Fonts\")\n",
    "        plt.axis('off')\n",
    "        idx = 0\n",
    "        canvas = np.zeros((pt*num_char_dim, num_char_dim*pt))\n",
    "        for i in range(num_char_dim):\n",
    "            for j in range(num_char_dim):\n",
    "                canvas[i*pt:(i+1)*pt, j*pt:(j+1)*pt] = valid_B[idx].reshape((pt, pt))\n",
    "#                 canvas[i*pt:(i+1)*pt, j*pt:(j+1)*pt] = train_B[idx].reshape((pt, pt))\n",
    "                idx += 1\n",
    "        plt.imshow(canvas, cmap='gray')\n",
    "        \n",
    "        plt.savefig(\"output.png\")\n",
    "        display(Image(filename=\"output.png\"))\n",
    "        clear_output(wait=True)\n",
    "except KeyboardInterrupt:\n",
    "    pass"
   ]
  },
  {
   "cell_type": "code",
   "execution_count": 23,
   "metadata": {},
   "outputs": [
    {
     "name": "stdout",
     "output_type": "stream",
     "text": [
      "(?, 784)\n"
     ]
    }
   ],
   "source": [
    "print(A_hat.shape)"
   ]
  },
  {
   "cell_type": "code",
   "execution_count": 24,
   "metadata": {},
   "outputs": [
    {
     "data": {
      "text/plain": [
       "0.3647959183673469"
      ]
     },
     "execution_count": 24,
     "metadata": {},
     "output_type": "execute_result"
    }
   ],
   "source": [
    "np.mean(np.square(train_A[0]-train_A[1]))"
   ]
  },
  {
   "cell_type": "markdown",
   "metadata": {},
   "source": [
    "### draft"
   ]
  },
  {
   "cell_type": "code",
   "execution_count": 17,
   "metadata": {},
   "outputs": [
    {
     "ename": "NameError",
     "evalue": "name 'res' is not defined",
     "output_type": "error",
     "traceback": [
      "\u001b[0;31m---------------------------------------------------------------------------\u001b[0m",
      "\u001b[0;31mNameError\u001b[0m                                 Traceback (most recent call last)",
      "\u001b[0;32m<ipython-input-17-cec9a993d3e2>\u001b[0m in \u001b[0;36m<module>\u001b[0;34m\u001b[0m\n\u001b[0;32m----> 1\u001b[0;31m \u001b[0mimg_array\u001b[0m \u001b[0;34m=\u001b[0m \u001b[0mnp\u001b[0m\u001b[0;34m.\u001b[0m\u001b[0marray\u001b[0m\u001b[0;34m(\u001b[0m\u001b[0mres\u001b[0m\u001b[0;34m,\u001b[0m \u001b[0mdtype\u001b[0m \u001b[0;34m=\u001b[0m \u001b[0mnp\u001b[0m\u001b[0;34m.\u001b[0m\u001b[0muint8\u001b[0m\u001b[0;34m)\u001b[0m\u001b[0;34m\u001b[0m\u001b[0;34m\u001b[0m\u001b[0m\n\u001b[0m\u001b[1;32m      2\u001b[0m \u001b[0mprint\u001b[0m\u001b[0;34m(\u001b[0m\u001b[0mimg_array\u001b[0m\u001b[0;34m.\u001b[0m\u001b[0mdtype\u001b[0m\u001b[0;34m.\u001b[0m\u001b[0mname\u001b[0m\u001b[0;34m)\u001b[0m\u001b[0;34m\u001b[0m\u001b[0;34m\u001b[0m\u001b[0m\n\u001b[1;32m      3\u001b[0m \u001b[0;34m\u001b[0m\u001b[0m\n\u001b[1;32m      4\u001b[0m \u001b[0mprint\u001b[0m\u001b[0;34m(\u001b[0m\u001b[0mfont\u001b[0m\u001b[0;34m.\u001b[0m\u001b[0mgetmask\u001b[0m\u001b[0;34m(\u001b[0m\u001b[0;34m'H'\u001b[0m\u001b[0;34m)\u001b[0m\u001b[0;34m.\u001b[0m\u001b[0mgetbbox\u001b[0m\u001b[0;34m(\u001b[0m\u001b[0;34m)\u001b[0m\u001b[0;34m)\u001b[0m\u001b[0;34m\u001b[0m\u001b[0;34m\u001b[0m\u001b[0m\n\u001b[1;32m      5\u001b[0m \u001b[0mprint\u001b[0m\u001b[0;34m(\u001b[0m\u001b[0mfont\u001b[0m\u001b[0;34m.\u001b[0m\u001b[0mfont\u001b[0m\u001b[0;34m.\u001b[0m\u001b[0mgetsize\u001b[0m\u001b[0;34m(\u001b[0m\u001b[0;34m'H'\u001b[0m\u001b[0;34m)\u001b[0m\u001b[0;34m)\u001b[0m\u001b[0;34m\u001b[0m\u001b[0;34m\u001b[0m\u001b[0m\n",
      "\u001b[0;31mNameError\u001b[0m: name 'res' is not defined"
     ]
    }
   ],
   "source": [
    "img_array = np.array(res, dtype = np.uint8)\n",
    "print(img_array.dtype.name)\n",
    "\n",
    "print(font.getmask('H').getbbox())\n",
    "print(font.font.getsize('H'))\n",
    "\n",
    "pt = width = height = 1024\n",
    "font = ImageFont.truetype(\"Arial.ttf\", pt)\n",
    "ascent, descent = font.getmetrics()\n",
    "print(ascent,descent)\n",
    "(font_width, font_height), (offset_x, offset_y) = font.font.getsize('A')\n",
    "print(font.font.getsize(\"A\"))\n",
    "img = Image.new('L', (width, height),0)\n",
    "print(width,height)\n",
    "draw = ImageDraw.Draw(img)\n",
    "\n",
    "draw.text((width/2-(font_width/2+offset_x),height/2-(font_height/2+offset_y)) ,\"A\", fill=255,font=font)\n",
    "\n",
    "# draw.text(((width-font_width)/2-offset_x/2, (height-font_height)/2-offset_y/2-descent/2), \"A\", fill=255,font=font)\n",
    "img.show()"
   ]
  },
  {
   "cell_type": "code",
   "execution_count": null,
   "metadata": {},
   "outputs": [],
   "source": [
    "#plot a few  examples\n",
    "plt.figure(figsize=(15, 25)) # (width, height)\n",
    "\n",
    "idx = 0\n",
    "canvas = np.zeros((pt*10, 10*pt))\n",
    "for i in range(10):\n",
    "    for j in range(10):\n",
    "        canvas[i*pt:(i+1)*pt, j*pt:(j+1)*pt] = train_A[idx].reshape((pt, pt))\n",
    "        idx += 1\n",
    "plt.subplot(121).set_title('Songti characters')\n",
    "plt.axis('off')\n",
    "plt.imshow(canvas, cmap='gray')\n",
    "\n",
    "idx = 0\n",
    "canvas = np.zeros((pt*10, 10*pt))\n",
    "for i in range(10):\n",
    "    for j in range(10):\n",
    "        canvas[i*pt:(i+1)*pt, j*pt:(j+1)*pt] = train_B[idx].reshape((pt, pt))\n",
    "        idx += 1\n",
    "plt.subplot(122).set_title('STHeiti Medium')\n",
    "plt.axis('off')\n",
    "plt.imshow(canvas, cmap='gray')\n",
    "plt.show()"
   ]
  },
  {
   "cell_type": "code",
   "execution_count": null,
   "metadata": {},
   "outputs": [],
   "source": []
  },
  {
   "cell_type": "code",
   "execution_count": null,
   "metadata": {},
   "outputs": [],
   "source": [
    "\n",
    "#     sentence_train = \"汉体书写信息技术标准相容档案下载使用界面简单支援服务升级资讯专业制作如今社会已经不是那样了为什么不是那样了呢\\\n",
    "# 因为人太多了人这种自然原因也许带来了一些好处但是总的来说还是坏处多一点不知道跟谁学的现在也喜欢打空格而不喜欢打标点了也许不是什\\\n",
    "# 么大变化只是一点量的变化吧生活上算是发生了点变化吧我不敢说她来的及时但是至少是现在想要的也是满喜欢的其实其中有太多微妙的变化了\\\n",
    "# 对于我来说现实的是对钱的需要我这个人从来不习惯花的钱至少现在和以前是这样以后还不知道能撑多久也许我是狮子座的原因吧有很强的\\\n",
    "# 自尊心和强烈的占有欲最近偶尔感觉那种味道满能减少一个人的压力的也就是偶尔会去感觉下天下的男人都说它不好但是又有谁能离得了它呢\\\n",
    "# 我希望我能至少我会控制量我还是满有原则的人可是就是人太随和了也许是使生活上不愉快的源泉我真的想强硬的去对待一些我不喜欢的事情虽\\\n",
    "# 然已经有点改善了但是真的做到冷血真的对我来说好难我不会忘记那些虽然没什么大的或质上的改变但是真的是很难忘记的就像你心的一个角落\\\n",
    "# 虽然被清除了但是还是难以忘怀也许人吧一个有感情的人是做不到彻底忘记的何况是有过开心的日子有句歌词真的很喜\"\n",
    "\n",
    "#     sentence_valid = \"创意空间快速无线上网人生总有太多不如意但是生活还是要继续面对大四一个人生表面上很快乐但是实际上是很难过的日子\\\n",
    "# 里我感觉到了它真正的含义有个别的同学去了喜欢的公司有同学考研有个同学像我现在真的很迷茫社会我没有去过当然一般人都不想去触碰它因\\\n",
    "# 为它真的不知道有多深就像数学的另一个领域在这个领域真熟悉那个领域你敢去吗但是我不是强人也没有能力不走进社会 现在与以前的不同社\\\n",
    "# 会与社会的不同真的很可怕把一个事物想的糟糕些还是有好处的我就是什么事情真的追求完美也不能说是完美吧但是真的喜欢那些什么都不管就\\\n",
    "# 过自己知道她们不用为别人着想生活的很洒脱我是多么向往那样的生活呀我也在努力尝试我会成功的我认为那是人生的最高境界至少对我是\""
   ]
  }
 ],
 "metadata": {
  "kernelspec": {
   "display_name": "AI_char",
   "language": "python",
   "name": "ai_char"
  },
  "language_info": {
   "codemirror_mode": {
    "name": "ipython",
    "version": 3
   },
   "file_extension": ".py",
   "mimetype": "text/x-python",
   "name": "python",
   "nbconvert_exporter": "python",
   "pygments_lexer": "ipython3",
   "version": "3.6.10"
  }
 },
 "nbformat": 4,
 "nbformat_minor": 4
}
